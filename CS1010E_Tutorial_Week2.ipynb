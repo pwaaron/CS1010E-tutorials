{
  "nbformat": 4,
  "nbformat_minor": 0,
  "metadata": {
    "colab": {
      "name": "CS1010E_Tutorial_Week2.ipynb",
      "provenance": [],
      "authorship_tag": "ABX9TyMlFMoyu3Nz8vgVmhM5xyZD",
      "include_colab_link": true
    },
    "kernelspec": {
      "name": "python3",
      "display_name": "Python 3"
    }
  },
  "cells": [
    {
      "cell_type": "markdown",
      "metadata": {
        "id": "view-in-github",
        "colab_type": "text"
      },
      "source": [
        "<a href=\"https://colab.research.google.com/github/pwaaron/CS1010E-tutorials/blob/master/CS1010E_Tutorial_Week2.ipynb\" target=\"_parent\"><img src=\"https://colab.research.google.com/assets/colab-badge.svg\" alt=\"Open In Colab\"/></a>"
      ]
    },
    {
      "cell_type": "markdown",
      "metadata": {
        "id": "_aZyKWtA1s14",
        "colab_type": "text"
      },
      "source": [
        "# CS1010E AY2020/21 Semester 1 \n",
        "# **Tutorial Week 2**"
      ]
    },
    {
      "cell_type": "markdown",
      "metadata": {
        "id": "pODnCGWf0OER",
        "colab_type": "text"
      },
      "source": [
        "## Part 1 Arithmetic Evaluation"
      ]
    },
    {
      "cell_type": "code",
      "metadata": {
        "id": "GU2rmQM60EVj",
        "colab_type": "code",
        "colab": {
          "base_uri": "https://localhost:8080/",
          "height": 105
        },
        "outputId": "a977b7cf-0ceb-4b67-a92e-b33f689ddb08"
      },
      "source": [
        "## TUTORIAL QUESTIONS ##\n",
        "\n",
        "print(3 * 4 + 5)\n",
        "print(3 + 4 * 5)\n",
        "print(5 ** 3 % 4)\n",
        "print(97 / 4)\n",
        "print(97 // 4)"
      ],
      "execution_count": null,
      "outputs": [
        {
          "output_type": "stream",
          "text": [
            "17\n",
            "23\n",
            "1\n",
            "24.25\n",
            "24\n"
          ],
          "name": "stdout"
        }
      ]
    },
    {
      "cell_type": "markdown",
      "metadata": {
        "id": "GW3nd2Dw0fOi",
        "colab_type": "text"
      },
      "source": [
        "## Part 2 Logical Evaluation"
      ]
    },
    {
      "cell_type": "code",
      "metadata": {
        "id": "TZ6rYvMt0Now",
        "colab_type": "code",
        "colab": {
          "base_uri": "https://localhost:8080/",
          "height": 140
        },
        "outputId": "cb0ce061-430e-4646-e532-fe13ffbfd903"
      },
      "source": [
        "## TUTORIAL QUESTIONS ##\n",
        "\n",
        "print(3 + 2 == 1 + 4)\n",
        "print(4 > 4)\n",
        "print(True or False)\n",
        "print(not False)\n",
        "print(not not True)\n",
        "print(not 0)\n",
        "print(not 9999)"
      ],
      "execution_count": null,
      "outputs": [
        {
          "output_type": "stream",
          "text": [
            "True\n",
            "False\n",
            "True\n",
            "True\n",
            "True\n",
            "True\n",
            "False\n"
          ],
          "name": "stdout"
        }
      ]
    },
    {
      "cell_type": "code",
      "metadata": {
        "id": "AXjpcwyv3rcU",
        "colab_type": "code",
        "colab": {}
      },
      "source": [
        "## Additional Exercise ##\n",
        "print(1 == 1)\n",
        "print(3 + 2 == 1 + 4)\n",
        "print(3 + 2 != 1 + 4)\n",
        "print(4 > 3)\n",
        "print(4 > 4)\n",
        "print(6 + 2 < 9 + 3)\n",
        "print(True or False)\n",
        "print( True and (False or True) )"
      ],
      "execution_count": null,
      "outputs": []
    },
    {
      "cell_type": "code",
      "metadata": {
        "id": "VUx2_-Xe4V7p",
        "colab_type": "code",
        "colab": {
          "base_uri": "https://localhost:8080/",
          "height": 34
        },
        "outputId": "78aa3d16-0b2c-41fb-97f7-e65196e24f85"
      },
      "source": [
        "0 == False"
      ],
      "execution_count": null,
      "outputs": [
        {
          "output_type": "execute_result",
          "data": {
            "text/plain": [
              "True"
            ]
          },
          "metadata": {
            "tags": []
          },
          "execution_count": 11
        }
      ]
    },
    {
      "cell_type": "code",
      "metadata": {
        "id": "MD3apsO24KCF",
        "colab_type": "code",
        "colab": {
          "base_uri": "https://localhost:8080/",
          "height": 70
        },
        "outputId": "c93db6d9-f9b7-4760-c35e-1bca9a5bfbfb"
      },
      "source": [
        "## WACKIER EXERCISE ##\n",
        "print(True + 1)\n",
        "print(False * 5)\n",
        "print(0 + (not 1))"
      ],
      "execution_count": null,
      "outputs": [
        {
          "output_type": "stream",
          "text": [
            "2\n",
            "0\n",
            "0\n"
          ],
          "name": "stdout"
        }
      ]
    },
    {
      "cell_type": "markdown",
      "metadata": {
        "id": "VVLJEdXH1BSG",
        "colab_type": "text"
      },
      "source": [
        "## Part 3 String Evaluation"
      ]
    },
    {
      "cell_type": "code",
      "metadata": {
        "id": "-gjH3DVS1FiT",
        "colab_type": "code",
        "colab": {
          "base_uri": "https://localhost:8080/",
          "height": 122
        },
        "outputId": "a09779b3-33d8-4bcd-a019-db728f25976a"
      },
      "source": [
        "print('abc' + 'def')\n",
        "print('gala' * 3)\n",
        "print('mu' + 'ha' * 4)\n",
        "print( ('ba ' * 2 + 'bidu' * 2 + 'bi ' + 'jam ' * 2) * 3 )\n",
        "print('banana'[3])\n",
        "print('banana'[2:4])"
      ],
      "execution_count": null,
      "outputs": [
        {
          "output_type": "stream",
          "text": [
            "abcdef\n",
            "galagalagala\n",
            "muhahahaha\n",
            "ba ba bidubidubi jam jam ba ba bidubidubi jam jam ba ba bidubidubi jam jam \n",
            "a\n",
            "na\n"
          ],
          "name": "stdout"
        }
      ]
    },
    {
      "cell_type": "markdown",
      "metadata": {
        "id": "u8GGfKcz1ipP",
        "colab_type": "text"
      },
      "source": [
        "## Part 4 Operator Pecedence"
      ]
    },
    {
      "cell_type": "code",
      "metadata": {
        "id": "1KAU0_in1evU",
        "colab_type": "code",
        "colab": {
          "base_uri": "https://localhost:8080/",
          "height": 87
        },
        "outputId": "fd66b3d5-1815-4344-f75e-e391c8804c4a"
      },
      "source": [
        "print(1 + 2 * 3)\n",
        "print(1 + 2 * 3 ** 4)\n",
        "print(1 + 2 * 3 ** 4 - 5)\n",
        "print(not 0 + 1)"
      ],
      "execution_count": null,
      "outputs": [
        {
          "output_type": "stream",
          "text": [
            "7\n",
            "163\n",
            "158\n",
            "False\n"
          ],
          "name": "stdout"
        }
      ]
    },
    {
      "cell_type": "markdown",
      "metadata": {
        "id": "CeEi4bxj0dLh",
        "colab_type": "text"
      },
      "source": [
        "## Detour: **Type Conversions**"
      ]
    },
    {
      "cell_type": "code",
      "metadata": {
        "id": "_22HhCPT0kKv",
        "colab_type": "code",
        "colab": {
          "base_uri": "https://localhost:8080/",
          "height": 34
        },
        "outputId": "ec5f668c-ff77-426c-fff3-ae725f0b343d"
      },
      "source": [
        "type(123)"
      ],
      "execution_count": 2,
      "outputs": [
        {
          "output_type": "execute_result",
          "data": {
            "text/plain": [
              "int"
            ]
          },
          "metadata": {
            "tags": []
          },
          "execution_count": 2
        }
      ]
    },
    {
      "cell_type": "code",
      "metadata": {
        "id": "3R3NnVNk0ls7",
        "colab_type": "code",
        "colab": {
          "base_uri": "https://localhost:8080/",
          "height": 34
        },
        "outputId": "060952cf-f104-4304-ee27-11b6598620f3"
      },
      "source": [
        "123 + 456"
      ],
      "execution_count": 3,
      "outputs": [
        {
          "output_type": "execute_result",
          "data": {
            "text/plain": [
              "579"
            ]
          },
          "metadata": {
            "tags": []
          },
          "execution_count": 3
        }
      ]
    },
    {
      "cell_type": "code",
      "metadata": {
        "id": "5Yb4ZdwT0oNi",
        "colab_type": "code",
        "colab": {
          "base_uri": "https://localhost:8080/",
          "height": 34
        },
        "outputId": "922becf3-7bf2-4023-f68c-03c08f0f1f5a"
      },
      "source": [
        "type('123')"
      ],
      "execution_count": 4,
      "outputs": [
        {
          "output_type": "execute_result",
          "data": {
            "text/plain": [
              "str"
            ]
          },
          "metadata": {
            "tags": []
          },
          "execution_count": 4
        }
      ]
    },
    {
      "cell_type": "code",
      "metadata": {
        "id": "KFQ1jboj0ppJ",
        "colab_type": "code",
        "colab": {
          "base_uri": "https://localhost:8080/",
          "height": 35
        },
        "outputId": "ebe672c8-61cc-4f08-b99e-8bda33fe4f9f"
      },
      "source": [
        "'123' + '456'"
      ],
      "execution_count": 5,
      "outputs": [
        {
          "output_type": "execute_result",
          "data": {
            "application/vnd.google.colaboratory.intrinsic+json": {
              "type": "string"
            },
            "text/plain": [
              "'123456'"
            ]
          },
          "metadata": {
            "tags": []
          },
          "execution_count": 5
        }
      ]
    },
    {
      "cell_type": "code",
      "metadata": {
        "id": "Q3FA510T0sEr",
        "colab_type": "code",
        "colab": {
          "base_uri": "https://localhost:8080/",
          "height": 167
        },
        "outputId": "eb315cf5-09f3-4acd-b62b-8fd89dd2542a"
      },
      "source": [
        "'123' + 456"
      ],
      "execution_count": 6,
      "outputs": [
        {
          "output_type": "error",
          "ename": "TypeError",
          "evalue": "ignored",
          "traceback": [
            "\u001b[0;31m---------------------------------------------------------------------------\u001b[0m",
            "\u001b[0;31mTypeError\u001b[0m                                 Traceback (most recent call last)",
            "\u001b[0;32m<ipython-input-6-314890dd92db>\u001b[0m in \u001b[0;36m<module>\u001b[0;34m()\u001b[0m\n\u001b[0;32m----> 1\u001b[0;31m \u001b[0;34m'123'\u001b[0m \u001b[0;34m+\u001b[0m \u001b[0;36m456\u001b[0m\u001b[0;34m\u001b[0m\u001b[0;34m\u001b[0m\u001b[0m\n\u001b[0m",
            "\u001b[0;31mTypeError\u001b[0m: must be str, not int"
          ]
        }
      ]
    },
    {
      "cell_type": "markdown",
      "metadata": {
        "id": "pF5iilJj0vnL",
        "colab_type": "text"
      },
      "source": [
        "### Solution: Use type converter funtions!\n",
        "\n",
        "\n",
        "```\n",
        "int()\n",
        "string()\n",
        "float()\n",
        "```\n",
        "\n"
      ]
    },
    {
      "cell_type": "code",
      "metadata": {
        "id": "PdVimtWC05w-",
        "colab_type": "code",
        "colab": {}
      },
      "source": [
        "int(1.234)"
      ],
      "execution_count": null,
      "outputs": []
    },
    {
      "cell_type": "code",
      "metadata": {
        "id": "XefNxbcq07LV",
        "colab_type": "code",
        "colab": {}
      },
      "source": [
        "int(1.7)"
      ],
      "execution_count": null,
      "outputs": []
    },
    {
      "cell_type": "code",
      "metadata": {
        "id": "24avZu2708OI",
        "colab_type": "code",
        "colab": {}
      },
      "source": [
        "int(-2.3)"
      ],
      "execution_count": null,
      "outputs": []
    },
    {
      "cell_type": "markdown",
      "metadata": {
        "id": "MijNF8OD1Ee7",
        "colab_type": "text"
      },
      "source": [
        "## Detour: **Variables**"
      ]
    },
    {
      "cell_type": "code",
      "metadata": {
        "id": "IynoTUzd1KQb",
        "colab_type": "code",
        "colab": {
          "base_uri": "https://localhost:8080/",
          "height": 52
        },
        "outputId": "bd03c26e-e61a-4e0e-f1d1-0eb18b9ade06"
      },
      "source": [
        "print(3 * 4 + 5)\n",
        "\n",
        "x = 3\n",
        "y = 4\n",
        "z = 5\n",
        "\n",
        "print(x * y + z)"
      ],
      "execution_count": 7,
      "outputs": [
        {
          "output_type": "stream",
          "text": [
            "17\n",
            "17\n"
          ],
          "name": "stdout"
        }
      ]
    },
    {
      "cell_type": "code",
      "metadata": {
        "id": "kHxUKF0M1Wkm",
        "colab_type": "code",
        "colab": {
          "base_uri": "https://localhost:8080/",
          "height": 34
        },
        "outputId": "6f132522-00fd-440c-c4de-87fcf247e017"
      },
      "source": [
        "x = 5 > 3\n",
        "print(x)"
      ],
      "execution_count": 8,
      "outputs": [
        {
          "output_type": "stream",
          "text": [
            "True\n"
          ],
          "name": "stdout"
        }
      ]
    },
    {
      "cell_type": "code",
      "metadata": {
        "id": "X7KDYMG01Gvx",
        "colab_type": "code",
        "colab": {
          "base_uri": "https://localhost:8080/",
          "height": 167
        },
        "outputId": "c44da08e-b53e-442a-8975-e94f5882e945"
      },
      "source": [
        "a * b + c"
      ],
      "execution_count": 1,
      "outputs": [
        {
          "output_type": "error",
          "ename": "NameError",
          "evalue": "ignored",
          "traceback": [
            "\u001b[0;31m---------------------------------------------------------------------------\u001b[0m",
            "\u001b[0;31mNameError\u001b[0m                                 Traceback (most recent call last)",
            "\u001b[0;32m<ipython-input-1-a8b9d586fd16>\u001b[0m in \u001b[0;36m<module>\u001b[0;34m()\u001b[0m\n\u001b[0;32m----> 1\u001b[0;31m \u001b[0ma\u001b[0m \u001b[0;34m*\u001b[0m \u001b[0mb\u001b[0m \u001b[0;34m+\u001b[0m \u001b[0mc\u001b[0m\u001b[0;34m\u001b[0m\u001b[0;34m\u001b[0m\u001b[0m\n\u001b[0m",
            "\u001b[0;31mNameError\u001b[0m: name 'a' is not defined"
          ]
        }
      ]
    },
    {
      "cell_type": "markdown",
      "metadata": {
        "id": "RUflRds11wVx",
        "colab_type": "text"
      },
      "source": [
        "## Part 5 Turtle Graphics"
      ]
    },
    {
      "cell_type": "code",
      "metadata": {
        "id": "eH7ecNSf1zCi",
        "colab_type": "code",
        "colab": {
          "base_uri": "https://localhost:8080/",
          "height": 175
        },
        "outputId": "ead8d11d-bae5-4446-db11-abd6ea441c62"
      },
      "source": [
        "'''\n",
        "If you use Google Colab, please run this box\n",
        "'''\n",
        "\n",
        "!pip3 install ColabTurtle \n",
        "from ColabTurtle.Turtle import *"
      ],
      "execution_count": null,
      "outputs": [
        {
          "output_type": "stream",
          "text": [
            "Collecting ColabTurtle\n",
            "  Downloading https://files.pythonhosted.org/packages/49/01/6da7091c2c6c917cce99c000b89acb6aa27b66ef6eafc0c0ccf59b98694f/ColabTurtle-2.0.0.tar.gz\n",
            "Building wheels for collected packages: ColabTurtle\n",
            "  Building wheel for ColabTurtle (setup.py) ... \u001b[?25l\u001b[?25hdone\n",
            "  Created wheel for ColabTurtle: filename=ColabTurtle-2.0.0-cp36-none-any.whl size=4033 sha256=365523088b5d5fef381a53debda5d3f02879e63a0eeeb4a74f75e27277f137b9\n",
            "  Stored in directory: /root/.cache/pip/wheels/a8/29/ec/ad346f0042ae467cc74f4378916348faf975b07890651dcae7\n",
            "Successfully built ColabTurtle\n",
            "Installing collected packages: ColabTurtle\n",
            "Successfully installed ColabTurtle-2.0.0\n"
          ],
          "name": "stdout"
        }
      ]
    },
    {
      "cell_type": "code",
      "metadata": {
        "id": "7WzBLb9n17gM",
        "colab_type": "code",
        "colab": {}
      },
      "source": [
        "'''\n",
        "If you use Jupyter Notebook instead, import turtle as per normal\n",
        "'''\n",
        "\n",
        "from turtle import *"
      ],
      "execution_count": null,
      "outputs": []
    },
    {
      "cell_type": "code",
      "metadata": {
        "id": "277SdSH82Q4V",
        "colab_type": "code",
        "colab": {
          "base_uri": "https://localhost:8080/",
          "height": 520
        },
        "outputId": "fbd45fb3-129b-4962-f169-0f85a0b8f8a7"
      },
      "source": [
        "'''\n",
        "If you use Google Colab, please uncomment the line below.\n",
        "'''\n",
        "initializeTurtle()\n",
        "\n",
        "forward(100)\n",
        "right(90)\n",
        "forward(100)\n",
        "right(90)\n",
        "forward(100)\n",
        "right(90)\n",
        "forward(100)"
      ],
      "execution_count": null,
      "outputs": [
        {
          "output_type": "display_data",
          "data": {
            "text/html": [
              "\n",
              "      <svg width=\"800\" height=\"500\">\n",
              "        <rect width=\"100%\" height=\"100%\" fill=\"black\"/>\n",
              "        <line x1=\"400\" y1=\"250\" x2=\"400.0\" y2=\"150.0\" stroke-linecap=\"round\" style=\"stroke:white;stroke-width:4\"/><line x1=\"400.0\" y1=\"150.0\" x2=\"500.0\" y2=\"150.0\" stroke-linecap=\"round\" style=\"stroke:white;stroke-width:4\"/><line x1=\"500.0\" y1=\"150.0\" x2=\"500.0\" y2=\"250.0\" stroke-linecap=\"round\" style=\"stroke:white;stroke-width:4\"/><line x1=\"500.0\" y1=\"250.0\" x2=\"400.0\" y2=\"250.0\" stroke-linecap=\"round\" style=\"stroke:white;stroke-width:4\"/>\n",
              "        \n",
              "      <g visibility=visible transform=\"rotate(90,400.0,250.0) translate(400.0, 250.0)\">\n",
              "        <circle stroke=\"white\" stroke-width=\"3\" fill=\"transparent\" r=\"12\" cx=\"0\" cy=\"0\"/>\n",
              "        <polygon points=\"0,19 3,16 -3,16\" style=\"fill:white;stroke:white;stroke-width:2\"/>\n",
              "      </g>\n",
              "    \n",
              "      </svg>\n",
              "    "
            ],
            "text/plain": [
              "<IPython.core.display.HTML object>"
            ]
          },
          "metadata": {
            "tags": []
          }
        }
      ]
    },
    {
      "cell_type": "markdown",
      "metadata": {
        "id": "x0rMavCt2QGu",
        "colab_type": "text"
      },
      "source": [
        ""
      ]
    }
  ]
}