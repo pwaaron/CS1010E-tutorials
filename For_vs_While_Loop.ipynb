{
  "nbformat": 4,
  "nbformat_minor": 0,
  "metadata": {
    "colab": {
      "name": "For vs While Loop",
      "provenance": [],
      "authorship_tag": "ABX9TyN+wnq0tTa2LQA//F24bL2r",
      "include_colab_link": true
    },
    "kernelspec": {
      "name": "python3",
      "display_name": "Python 3"
    }
  },
  "cells": [
    {
      "cell_type": "markdown",
      "metadata": {
        "id": "view-in-github",
        "colab_type": "text"
      },
      "source": [
        "<a href=\"https://colab.research.google.com/github/pwaaron/CS1010E-tutorials/blob/master/For_vs_While_Loop.ipynb\" target=\"_parent\"><img src=\"https://colab.research.google.com/assets/colab-badge.svg\" alt=\"Open In Colab\"/></a>"
      ]
    },
    {
      "cell_type": "markdown",
      "metadata": {
        "id": "SE4GnO3nY0vF",
        "colab_type": "text"
      },
      "source": [
        "# **Repetitions** (and it's types)\n",
        "In lecture, you must have learnt three types of repetitions. To reiterate (pun intended),\n",
        "\n",
        "\n",
        "1.   Run **exactly** `n` times\n",
        "2.   Run **at most** `n` times\n",
        "3.   Run **indefinitely**\n",
        "\n",
        "Type 1 and Type 2 will most likely use a `for` loop.\n",
        "Type 3 will use a `while` loop.\n",
        "\n",
        "In other words, \n",
        "*   use a `for` loop when you know an exact number the process should repeat itself.\n",
        "*   use a `while` loop when you do not know when to end or it ends when a condition is fulfilled. \n",
        "\n",
        "In other wordsm use `while` when you cannot use `for`. A good question to ask to use a `while` loop is how the number of repetition changes depending on input. If there is a relationship (whether its linear, quadratic, logarithmic, etc.) between the input and the number of repetitions, then use a `for` loop. If the number jumps around, use a `while` loop.\n",
        "\n",
        "### Examples \n",
        "#### **`for`** loop\n",
        "*   Iterating through a range of numbers\n",
        "*   Going through the characters of a string (the longer the string, the more the repetitions, vice versa)\n",
        "*\n",
        "\n",
        "#### **`while`** loop\n",
        "*   Requesting for a valid input\n",
        "*   Finding something with **no clear end**\n",
        "*   finding the first \\<you name it\\> number starting from `n`\n",
        "\n",
        "\n",
        "\n"
      ]
    },
    {
      "cell_type": "markdown",
      "metadata": {
        "id": "KIVASg8MbKXa",
        "colab_type": "text"
      },
      "source": [
        "## Type 1: Run **exactly** `n` times\n",
        "\n",
        "This one is the most straightforward. \n",
        "\n",
        "If you have a **start point** and an **end point**, then you will use a `for` loop.\n",
        "\n",
        "For example, if we want to check the price of a burger, we need to iterate through the ingredient one by one. \n",
        "\n",
        "The **start** is the first ingredient of the burger.\n",
        "\n",
        "The **end** is the last ingredient of the burger."
      ]
    },
    {
      "cell_type": "code",
      "metadata": {
        "id": "-IbCVo58bJqk",
        "colab_type": "code",
        "colab": {}
      },
      "source": [
        "def price_tag(ingredient):\n",
        "  return 0\n",
        "\n",
        "price = 0\n",
        "burger = 'BVPB'\n",
        "\n",
        "for ingredient in burger:\n",
        "  price += price_tag(ingredient)"
      ],
      "execution_count": null,
      "outputs": []
    },
    {
      "cell_type": "markdown",
      "metadata": {
        "id": "C3Os3nbXbxTf",
        "colab_type": "text"
      },
      "source": [
        "Another example is to find the sum of all odd numbers between 0 and 100. \n",
        "Here, we have a \n",
        "*   start: 0\n",
        "*   end: 100"
      ]
    },
    {
      "cell_type": "code",
      "metadata": {
        "id": "Dfy_Tc-OYdDw",
        "colab_type": "code",
        "colab": {
          "base_uri": "https://localhost:8080/",
          "height": 34
        },
        "outputId": "c0eeebb4-8bba-48b9-9b61-1c39d6d550b3"
      },
      "source": [
        "answer = 0\n",
        "\n",
        "for number in range(0, 100 + 1): #+1 to include 100\n",
        "  if number % 2 == 1: #any odd number divided by 2 will have a remainder of 1\n",
        "    answer += number\n",
        "\n",
        "answer"
      ],
      "execution_count": 1,
      "outputs": [
        {
          "output_type": "execute_result",
          "data": {
            "text/plain": [
              "2500"
            ]
          },
          "metadata": {
            "tags": []
          },
          "execution_count": 1
        }
      ]
    },
    {
      "cell_type": "markdown",
      "metadata": {
        "id": "HClYJLyec0UG",
        "colab_type": "text"
      },
      "source": [
        "Below are some bad examples of Type 1 codes"
      ]
    },
    {
      "cell_type": "code",
      "metadata": {
        "id": "OryTqLhvc_fL",
        "colab_type": "code",
        "colab": {}
      },
      "source": [
        "answer = 0\n",
        "number = 0\n",
        "\n",
        "while number <= 100:\n",
        "  \n",
        "  if number %2 == 1:\n",
        "    answer += number\n",
        "  \n",
        "  number += 1"
      ],
      "execution_count": null,
      "outputs": []
    },
    {
      "cell_type": "code",
      "metadata": {
        "id": "eGlV_RyQc4Nu",
        "colab_type": "code",
        "colab": {}
      },
      "source": [
        "flag = True\n",
        "i = 0\n",
        "\n",
        "while flag:\n",
        "  if number %2 == 1:\n",
        "    answer += number\n",
        "  \n",
        "  number += 1\n",
        "\n",
        "  if number == 100:\n",
        "    flag = False"
      ],
      "execution_count": null,
      "outputs": []
    },
    {
      "cell_type": "code",
      "metadata": {
        "id": "uhUZpbZJdVdr",
        "colab_type": "code",
        "colab": {}
      },
      "source": [
        "i = 0\n",
        "\n",
        "while True: #IMO, this is the worst >:(\n",
        "  if number %2 == 1:\n",
        "    answer += number\n",
        "  \n",
        "  number += 1\n",
        "\n",
        "  if number == 100:\n",
        "    break"
      ],
      "execution_count": null,
      "outputs": []
    },
    {
      "cell_type": "markdown",
      "metadata": {
        "id": "lfo9BKoncYmf",
        "colab_type": "text"
      },
      "source": [
        "## Type 2: Run **at most** `n` times\n",
        "\n",
        "To be very honest, there are no differences with Type 1. There is a **well-defined start and stop point**. What makes it difference is that there are **special conditions** that may allow you to stop iterating further to save any potential computational costs. \n",
        "\n",
        "However, due to the existence of this special conditions, please do not confuse this as a `while` loop.\n",
        "\n",
        "Usually, we use this case if we are curious about a fact and just want to check. If more formal terms, we want to know if any (at least one item in the range) fits our requirements/fulfils our conditions. etc.\n",
        "\n",
        "For example is if we want to find out if our burger vegan or not.\n",
        "We must check through all the countable items inside the burger. However, once we find a patty inside, we simply do not need to check the rest of the burger to know that the burger is not vegan. "
      ]
    },
    {
      "cell_type": "code",
      "metadata": {
        "id": "115vu-bBdfgx",
        "colab_type": "code",
        "colab": {
          "base_uri": "https://localhost:8080/",
          "height": 34
        },
        "outputId": "fd06356f-21ee-4331-9517-b3d443aa7fd7"
      },
      "source": [
        "def isVegan(burger):\n",
        "  for ingredient in burger:\n",
        "    if ingredient == \"P\":\n",
        "      return False\n",
        "  \n",
        "  #if it finished iterating, it means there are no patty insidem means its vegan\n",
        "  return True\n",
        "\n",
        "isVegan('BVPB')"
      ],
      "execution_count": 3,
      "outputs": [
        {
          "output_type": "execute_result",
          "data": {
            "text/plain": [
              "False"
            ]
          },
          "metadata": {
            "tags": []
          },
          "execution_count": 3
        }
      ]
    },
    {
      "cell_type": "markdown",
      "metadata": {
        "id": "ZODGdnV_eWcE",
        "colab_type": "text"
      },
      "source": [
        "Another is to check whether **all** the numbers are single-digits. The inverse of this statement is at least one number is not a single-digit. Hence, we can stop iterating once we find a non-single-digit number."
      ]
    },
    {
      "cell_type": "code",
      "metadata": {
        "id": "pEuM6JDAe0vO",
        "colab_type": "code",
        "colab": {
          "base_uri": "https://localhost:8080/",
          "height": 102
        },
        "outputId": "a5599b75-ebe3-4a3a-9648-f4f087ec9e65"
      },
      "source": [
        "for number in range(7, 15):\n",
        "  print(number)\n",
        "  if number//10 > 0:\n",
        "    print('Found the number!', number)\n",
        "    break"
      ],
      "execution_count": 5,
      "outputs": [
        {
          "output_type": "stream",
          "text": [
            "7\n",
            "8\n",
            "9\n",
            "10\n",
            "Found the number! 10\n"
          ],
          "name": "stdout"
        }
      ]
    },
    {
      "cell_type": "markdown",
      "metadata": {
        "id": "X-LDzV2lfJFZ",
        "colab_type": "text"
      },
      "source": [
        "Poor examples are exactly the same as in **Type 1** with necessary modifications."
      ]
    },
    {
      "cell_type": "code",
      "metadata": {
        "id": "pQlCRKT4fUnv",
        "colab_type": "code",
        "colab": {}
      },
      "source": [
        "number = 7\n",
        "while number//10 > 0:\n",
        "  print(number)\n",
        "  number += 1\n",
        "\n",
        "  if number < 15:\n",
        "    break"
      ],
      "execution_count": null,
      "outputs": []
    },
    {
      "cell_type": "markdown",
      "metadata": {
        "id": "CB5Qf6HtffwI",
        "colab_type": "text"
      },
      "source": [
        "## Type 3: Run **indefinitely** \n",
        "\n",
        "This is when you have a well-defined start-point, but do not have a well-defined end point.\n",
        "\n",
        "This is rarely the case when you are searching inside sequences (range of numbers, strings, lists, tuples, etc).\n",
        "\n",
        "A good example is the checkAge() assignment where when the code will terminate is beyond our control.\n",
        "\n",
        "Another good one is to find the first \"winning number\" from the lucky number and must-have number. You do not have an idea where it is located."
      ]
    },
    {
      "cell_type": "code",
      "metadata": {
        "id": "PFT3z30jgrup",
        "colab_type": "code",
        "colab": {
          "base_uri": "https://localhost:8080/",
          "height": 34
        },
        "outputId": "2c2252a5-29fc-4498-d16c-07c28ab7bc4c"
      },
      "source": [
        "n = 0\n",
        "lucky_number = 19\n",
        "must_have_number = 21\n",
        "\n",
        "while not(n % lucky_number == 0 and str(must_have_number) in str(n)):\n",
        "  n += 1\n",
        "\n",
        "print(n)"
      ],
      "execution_count": 7,
      "outputs": [
        {
          "output_type": "stream",
          "text": [
            "1121\n"
          ],
          "name": "stdout"
        }
      ]
    },
    {
      "cell_type": "markdown",
      "metadata": {
        "id": "mNZvtJRQhQRP",
        "colab_type": "text"
      },
      "source": [
        "If you notice, you can convert `for` loops to `while` loops but not the other way around (if you do it properly).\n",
        "\n",
        "So, the general rule of thumb to use a `while` loopis if\n",
        "*   there is no clear end-point\n",
        "*   the condition met is not easy to be converted to numbers\n",
        "*   the condition of termination is complicated\n",
        "*   the end cannot be easily calculated (sometimes you can calculate beforehand and use a `for` loop instead)\n",
        "\n",
        "(these points are actually pretty synonymous to each other)\n"
      ]
    },
    {
      "cell_type": "markdown",
      "metadata": {
        "id": "f9eTZpMXh4K2",
        "colab_type": "text"
      },
      "source": [
        "## Final Remarks\n",
        "\n",
        "I hope this notebook gives some clarity of when should we use something. It is not easy (no one ever said this is easy) to figure out which is which. The Type 2 iteration can often be misinterpreted as Type 3 (and its fine, its just ugly). With more practice, you will gain more experience and get the gut intuition when to use `for` and when to use `while`."
      ]
    }
  ]
}