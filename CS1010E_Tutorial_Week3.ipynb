{
  "nbformat": 4,
  "nbformat_minor": 0,
  "metadata": {
    "colab": {
      "name": "CS1010E_Tutorial_Week3",
      "provenance": [],
      "authorship_tag": "ABX9TyM0CPoNJO4HNzgUS2a7citA",
      "include_colab_link": true
    },
    "kernelspec": {
      "name": "python3",
      "display_name": "Python 3"
    }
  },
  "cells": [
    {
      "cell_type": "markdown",
      "metadata": {
        "id": "view-in-github",
        "colab_type": "text"
      },
      "source": [
        "<a href=\"https://colab.research.google.com/github/pwaaron/CS1010E-tutorials/blob/master/CS1010E_Tutorial_Week3.ipynb\" target=\"_parent\"><img src=\"https://colab.research.google.com/assets/colab-badge.svg\" alt=\"Open In Colab\"/></a>"
      ]
    },
    {
      "cell_type": "markdown",
      "metadata": {
        "id": "XztO6Ue7gwGi",
        "colab_type": "text"
      },
      "source": [
        "# **CS1010E AY2020/21 Semester 1**\n",
        "## Week 3: Functions, Iteration"
      ]
    },
    {
      "cell_type": "markdown",
      "metadata": {
        "id": "wnTdtwHNg5h6",
        "colab_type": "text"
      },
      "source": [
        "## Functions\n",
        "Store \"code template\" for multiple reuse."
      ]
    },
    {
      "cell_type": "code",
      "metadata": {
        "id": "xvUmwJihglYL",
        "colab_type": "code",
        "colab": {
          "base_uri": "https://localhost:8080/",
          "height": 34
        },
        "outputId": "9cee44db-d1ec-47db-dda4-95202e617262"
      },
      "source": [
        "## For Google Colab, please import the following\n",
        "!pip3 install ColabTurtle\n",
        "from ColabTurtle.Turtle import *\n",
        "\n",
        "fd = forward\n",
        "lt = left\n",
        "rt = right"
      ],
      "execution_count": 4,
      "outputs": [
        {
          "output_type": "stream",
          "text": [
            "Requirement already satisfied: ColabTurtle in /usr/local/lib/python3.6/dist-packages (2.0.0)\n"
          ],
          "name": "stdout"
        }
      ]
    },
    {
      "cell_type": "code",
      "metadata": {
        "id": "WqSE8rxAhWpX",
        "colab_type": "code",
        "colab": {}
      },
      "source": [
        "## Example ##\n",
        "def drawTri(length):\n",
        "  fd(length)\n",
        "  lt(120)\n",
        "  fd(length)\n",
        "  lt(120)\n",
        "  fd(length)\n",
        "  lt(120)"
      ],
      "execution_count": 5,
      "outputs": []
    },
    {
      "cell_type": "markdown",
      "metadata": {
        "id": "rFhkGbrhhrN2",
        "colab_type": "text"
      },
      "source": [
        "We can use the function above to create this design.\n",
        "\n",
        "![wk3_triangle1.png](https://raw.githubusercontent.com/pwaaron/CS1010E-tutorials/master/img/wk3/wk3_triangle1.png)"
      ]
    },
    {
      "cell_type": "code",
      "metadata": {
        "id": "o9XL-znthqtC",
        "colab_type": "code",
        "colab": {
          "base_uri": "https://localhost:8080/",
          "height": 521
        },
        "outputId": "44e894be-f017-41a1-8c36-a4d593d33d62"
      },
      "source": [
        "initializeTurtle() #to start a blank canvas, special for ColabTurtle\n",
        "rt(90)\n",
        "\n",
        "drawTri(100)\n",
        "drawTri(200)\n",
        "drawTri(300)\n",
        "drawTri(400)"
      ],
      "execution_count": 8,
      "outputs": [
        {
          "output_type": "display_data",
          "data": {
            "text/html": [
              "\n",
              "      <svg width=\"800\" height=\"500\">\n",
              "        <rect width=\"100%\" height=\"100%\" fill=\"black\"/>\n",
              "        <line x1=\"400\" y1=\"250\" x2=\"500.0\" y2=\"250.0\" stroke-linecap=\"round\" style=\"stroke:white;stroke-width:4\"/><line x1=\"500.0\" y1=\"250.0\" x2=\"449.99999999999994\" y2=\"163.39745962155615\" stroke-linecap=\"round\" style=\"stroke:white;stroke-width:4\"/><line x1=\"449.99999999999994\" y1=\"163.39745962155615\" x2=\"399.99999999999994\" y2=\"250.00000000000003\" stroke-linecap=\"round\" style=\"stroke:white;stroke-width:4\"/><line x1=\"399.99999999999994\" y1=\"250.00000000000003\" x2=\"600.0\" y2=\"250.00000000000003\" stroke-linecap=\"round\" style=\"stroke:white;stroke-width:4\"/><line x1=\"600.0\" y1=\"250.00000000000003\" x2=\"499.9999999999999\" y2=\"76.79491924311236\" stroke-linecap=\"round\" style=\"stroke:white;stroke-width:4\"/><line x1=\"499.9999999999999\" y1=\"76.79491924311236\" x2=\"399.99999999999994\" y2=\"250.0000000000001\" stroke-linecap=\"round\" style=\"stroke:white;stroke-width:4\"/><line x1=\"399.99999999999994\" y1=\"250.0000000000001\" x2=\"700.0\" y2=\"250.0000000000001\" stroke-linecap=\"round\" style=\"stroke:white;stroke-width:4\"/><line x1=\"700.0\" y1=\"250.0000000000001\" x2=\"549.9999999999999\" y2=\"-9.807621135331374\" stroke-linecap=\"round\" style=\"stroke:white;stroke-width:4\"/><line x1=\"549.9999999999999\" y1=\"-9.807621135331374\" x2=\"399.99999999999994\" y2=\"250.00000000000023\" stroke-linecap=\"round\" style=\"stroke:white;stroke-width:4\"/><line x1=\"399.99999999999994\" y1=\"250.00000000000023\" x2=\"800.0\" y2=\"250.00000000000023\" stroke-linecap=\"round\" style=\"stroke:white;stroke-width:4\"/><line x1=\"800.0\" y1=\"250.00000000000023\" x2=\"599.9999999999998\" y2=\"-96.41016151377511\" stroke-linecap=\"round\" style=\"stroke:white;stroke-width:4\"/><line x1=\"599.9999999999998\" y1=\"-96.41016151377511\" x2=\"399.9999999999999\" y2=\"250.0000000000004\" stroke-linecap=\"round\" style=\"stroke:white;stroke-width:4\"/>\n",
              "        \n",
              "      <g visibility=visible transform=\"rotate(-90,399.9999999999999,250.0000000000004) translate(399.9999999999999, 250.0000000000004)\">\n",
              "        <circle stroke=\"white\" stroke-width=\"3\" fill=\"transparent\" r=\"12\" cx=\"0\" cy=\"0\"/>\n",
              "        <polygon points=\"0,19 3,16 -3,16\" style=\"fill:white;stroke:white;stroke-width:2\"/>\n",
              "      </g>\n",
              "    \n",
              "      </svg>\n",
              "    "
            ],
            "text/plain": [
              "<IPython.core.display.HTML object>"
            ]
          },
          "metadata": {
            "tags": []
          }
        }
      ]
    },
    {
      "cell_type": "markdown",
      "metadata": {
        "id": "9H4aMSLsifcF",
        "colab_type": "text"
      },
      "source": [
        "How to create this triangle instead?\n",
        "\n",
        "![wk3_triangle2[1].png](https://raw.githubusercontent.com/pwaaron/CS1010E-tutorials/master/img/wk3/wk3_triangle2.png)"
      ]
    },
    {
      "cell_type": "code",
      "metadata": {
        "id": "pzAoA1pLik2d",
        "colab_type": "code",
        "colab": {}
      },
      "source": [
        "def foo():\n",
        "  pass"
      ],
      "execution_count": null,
      "outputs": []
    },
    {
      "cell_type": "code",
      "metadata": {
        "id": "2vSvbo3bi0Ow",
        "colab_type": "code",
        "colab": {}
      },
      "source": [
        "initializeTurtle() #to start a blank canvas, special for ColabTurtle\n",
        "rt(90)\n",
        "\n",
        "foo()"
      ],
      "execution_count": null,
      "outputs": []
    },
    {
      "cell_type": "markdown",
      "metadata": {
        "id": "N7ExZZ2Di5WW",
        "colab_type": "text"
      },
      "source": [
        "### Advance Challenge: Try to draw these with `for` loop"
      ]
    },
    {
      "cell_type": "markdown",
      "metadata": {
        "id": "XhbSGaVXjANd",
        "colab_type": "text"
      },
      "source": [
        "![First Challenge Triangle](https://raw.githubusercontent.com/pwaaron/CS1010E-tutorials/master/img/wk3/wk3_triangle3.png)"
      ]
    },
    {
      "cell_type": "code",
      "metadata": {
        "id": "u4vSdilvjGgY",
        "colab_type": "code",
        "colab": {}
      },
      "source": [
        "initializeTurtle() #to start a blank canvas, special for ColabTurtle\n",
        "rt(90)\n",
        "\n",
        "### YOUR CODE HERE ###"
      ],
      "execution_count": null,
      "outputs": []
    },
    {
      "cell_type": "markdown",
      "metadata": {
        "id": "A6j5o9WAi_Hl",
        "colab_type": "text"
      },
      "source": [
        "![Second Triangle Challenge](https://raw.githubusercontent.com/pwaaron/CS1010E-tutorials/master/img/wk3/wk3_triangle4.png)"
      ]
    },
    {
      "cell_type": "code",
      "metadata": {
        "id": "cZuiyCsljS5T",
        "colab_type": "code",
        "colab": {}
      },
      "source": [
        "initializeTurtle() #to start a blank canvas, special for ColabTurtle\n",
        "rt(90)\n",
        "\n",
        "### YOUR CODE HERE ###"
      ],
      "execution_count": null,
      "outputs": []
    },
    {
      "cell_type": "markdown",
      "metadata": {
        "id": "Y_WdMsWQjTXx",
        "colab_type": "text"
      },
      "source": [
        "## Detour: Function's `print` vs `return`"
      ]
    },
    {
      "cell_type": "markdown",
      "metadata": {
        "id": "bi6Z5YegjpPH",
        "colab_type": "text"
      },
      "source": [
        "### `return`"
      ]
    },
    {
      "cell_type": "code",
      "metadata": {
        "id": "yO--vOz-jfvL",
        "colab_type": "code",
        "colab": {
          "base_uri": "https://localhost:8080/",
          "height": 34
        },
        "outputId": "609909a9-c6d7-48e9-d7e5-0bb846776b62"
      },
      "source": [
        "def square(x):\n",
        "  return x * x\n",
        "\n",
        "square(3)"
      ],
      "execution_count": 9,
      "outputs": [
        {
          "output_type": "execute_result",
          "data": {
            "text/plain": [
              "9"
            ]
          },
          "metadata": {
            "tags": []
          },
          "execution_count": 9
        }
      ]
    },
    {
      "cell_type": "code",
      "metadata": {
        "id": "esnXkpLjjlx9",
        "colab_type": "code",
        "colab": {}
      },
      "source": [
        "y = square(5)"
      ],
      "execution_count": 12,
      "outputs": []
    },
    {
      "cell_type": "code",
      "metadata": {
        "id": "4urlGASij4ra",
        "colab_type": "code",
        "colab": {
          "base_uri": "https://localhost:8080/",
          "height": 34
        },
        "outputId": "b736672e-1026-4573-a3c5-ca0f41b164b4"
      },
      "source": [
        "print(y)"
      ],
      "execution_count": 13,
      "outputs": [
        {
          "output_type": "stream",
          "text": [
            "25\n"
          ],
          "name": "stdout"
        }
      ]
    },
    {
      "cell_type": "markdown",
      "metadata": {
        "id": "ff8sqE1cjt51",
        "colab_type": "text"
      },
      "source": [
        "### `print`"
      ]
    },
    {
      "cell_type": "code",
      "metadata": {
        "id": "4bExl5g4jvpw",
        "colab_type": "code",
        "colab": {
          "base_uri": "https://localhost:8080/",
          "height": 68
        },
        "outputId": "ed828b2a-3ee2-4685-b085-5270f29bd9e0"
      },
      "source": [
        "def say3Times(s):\n",
        "  print(s)\n",
        "  print(s)\n",
        "  print(s)\n",
        "\n",
        "say3Times(\"Alamak!\")"
      ],
      "execution_count": 11,
      "outputs": [
        {
          "output_type": "stream",
          "text": [
            "Alamak!\n",
            "Alamak!\n",
            "Alamak!\n"
          ],
          "name": "stdout"
        }
      ]
    },
    {
      "cell_type": "code",
      "metadata": {
        "id": "BuVO3CCDj2un",
        "colab_type": "code",
        "colab": {
          "base_uri": "https://localhost:8080/",
          "height": 68
        },
        "outputId": "7cbb8b9f-2ca7-4702-a7b7-0b2241bc2618"
      },
      "source": [
        "z = say3Times(\"Haiyah...\")"
      ],
      "execution_count": 14,
      "outputs": [
        {
          "output_type": "stream",
          "text": [
            "Haiyah...\n",
            "Haiyah...\n",
            "Haiyah...\n"
          ],
          "name": "stdout"
        }
      ]
    },
    {
      "cell_type": "code",
      "metadata": {
        "id": "LJpPgW9zkCiV",
        "colab_type": "code",
        "colab": {
          "base_uri": "https://localhost:8080/",
          "height": 34
        },
        "outputId": "e0a8263c-7ab8-456d-d5a9-83dbf1b60be9"
      },
      "source": [
        "print(z)"
      ],
      "execution_count": 15,
      "outputs": [
        {
          "output_type": "stream",
          "text": [
            "None\n"
          ],
          "name": "stdout"
        }
      ]
    },
    {
      "cell_type": "markdown",
      "metadata": {
        "id": "8ksG9fCOkLgi",
        "colab_type": "text"
      },
      "source": [
        "## Selection Statements\n"
      ]
    },
    {
      "cell_type": "code",
      "metadata": {
        "id": "3C-rTx3VkQZn",
        "colab_type": "code",
        "colab": {}
      },
      "source": [
        "def foo():\n",
        "  if True:\n",
        "    if False:\n",
        "      print(1)\n",
        "    else:\n",
        "      print(2)\n",
        "\n",
        "foo()"
      ],
      "execution_count": null,
      "outputs": []
    },
    {
      "cell_type": "code",
      "metadata": {
        "id": "wnOVp36kkkRr",
        "colab_type": "code",
        "colab": {}
      },
      "source": [
        "def bar():\n",
        "  if False:\n",
        "    if True: \n",
        "      return 1\n",
        "  else:\n",
        "    return 2\n",
        "\n",
        "bar()"
      ],
      "execution_count": null,
      "outputs": []
    },
    {
      "cell_type": "code",
      "metadata": {
        "id": "XY1e03t-kvDa",
        "colab_type": "code",
        "colab": {}
      },
      "source": [
        "def baz():\n",
        "  if False:\n",
        "    return 1\n",
        "  elif False:\n",
        "    return 2\n",
        "  elif True:\n",
        "    return 3\n",
        "  elif True:\n",
        "    return 4\n",
        "  else: \n",
        "    return 5\n",
        "\n",
        "baz()"
      ],
      "execution_count": null,
      "outputs": []
    },
    {
      "cell_type": "code",
      "metadata": {
        "id": "uAuFwYxlk4QX",
        "colab_type": "code",
        "colab": {}
      },
      "source": [
        "def foo():\n",
        "  if not True:\n",
        "    if True:\n",
        "      print(1)\n",
        "    else:\n",
        "      print(2)\n",
        "\n",
        "foo()"
      ],
      "execution_count": null,
      "outputs": []
    },
    {
      "cell_type": "markdown",
      "metadata": {
        "id": "fHyNqj3AlBYh",
        "colab_type": "text"
      },
      "source": [
        "**What is the difference?**"
      ]
    },
    {
      "cell_type": "code",
      "metadata": {
        "id": "yjwFvTLslNO7",
        "colab_type": "code",
        "colab": {}
      },
      "source": [
        "def foo1():\n",
        "  if True:\n",
        "    if False:\n",
        "      print(1)\n",
        "    else:\n",
        "      print(2)\n",
        "\n",
        "def foo2():\n",
        "  if True:\n",
        "    if False:\n",
        "      print(1)\n",
        "  else:\n",
        "    print(2)"
      ],
      "execution_count": null,
      "outputs": []
    },
    {
      "cell_type": "markdown",
      "metadata": {
        "id": "59TN-cjulaRS",
        "colab_type": "text"
      },
      "source": [
        "## **Burger Party! Episode 1**\n",
        "Inspired from [**This guy went to McDonald’s and ended up just ordering a slice of cheese**](https://metro.co.uk/2017/03/15/this-guy-went-to-mcdonalds-and-ended-up-just-ordering-a-slice-of-cheese-6510811/)\n",
        "![Burger Order](https://i2.wp.com/metro.co.uk/wp-content/uploads/2017/03/capture45.png?quality=90&strip=all&zoom=1&resize=644%2C423&ssl=1)"
      ]
    },
    {
      "cell_type": "markdown",
      "metadata": {
        "id": "wVe9whqvl5R7",
        "colab_type": "text"
      },
      "source": [
        "Burgers can be customised. I personally would always request to remove those pickles from hell and (if possible) add onions. Hence, for the next few tutorials, we will be working as a programmer for an imaginary fast food chain, Krusty Crab.\n",
        "![](https://upload.wikimedia.org/wikipedia/en/3/33/Krusty_Krab_230b.png)\n",
        "\n"
      ]
    },
    {
      "cell_type": "markdown",
      "metadata": {
        "id": "IPUAsSl1mbl4",
        "colab_type": "text"
      },
      "source": [
        "### Burger Customisation\n",
        "In Krusty Crab, you can customise your burgers where each item has a price (with no combo discounts)\n",
        "\n",
        "Name | Symbol | Price\n",
        "--- | --- | ---\n",
        "Bun | B | \\$0.50\n",
        "Cheese | C | \\$0.80\n",
        "Patty | P | \\$1.50\n",
        "Vegetables | V | \\$0.70\n",
        "Onions | O | \\$0.40\n",
        "Mushrooms | M | $0.90\n",
        "\n",
        "**Burgers** are represented as a `string` of characters of **ingredients**.\n",
        "For example, **`BVPB`** is a *__B__un-__V__eggies-__P__atty-__B__un* burger costing $3.20."
      ]
    },
    {
      "cell_type": "markdown",
      "metadata": {
        "id": "CfNtNF1Xn7E3",
        "colab_type": "text"
      },
      "source": [
        "## Function for Cashier: `burgerPrice(burger)`\n",
        "Now, create a function that can calculate the price of the burger.\n",
        "e.g.\n",
        "\n",
        "```\n",
        ">>> burgerPrice('BVPB')\n",
        "3.2\n",
        "```\n",
        "\n"
      ]
    },
    {
      "cell_type": "code",
      "metadata": {
        "id": "YzP6VsbConNp",
        "colab_type": "code",
        "colab": {}
      },
      "source": [
        ""
      ],
      "execution_count": null,
      "outputs": []
    },
    {
      "cell_type": "markdown",
      "metadata": {
        "id": "DAiCQ3HCoQmn",
        "colab_type": "text"
      },
      "source": [
        "## Detour: **Comments**"
      ]
    },
    {
      "cell_type": "code",
      "metadata": {
        "id": "nHnbWx6CoQHh",
        "colab_type": "code",
        "colab": {}
      },
      "source": [
        "### TWO WAYS OF GIVING COMMENTS ###\n",
        "\n",
        "'''\n",
        "Multiple-line comments use triple-quotes.\n",
        "'''\n",
        "\n",
        "#Single-line comments use #\n",
        "2 + 3 # Which can be put at the end of a line of code"
      ],
      "execution_count": null,
      "outputs": []
    }
  ]
}