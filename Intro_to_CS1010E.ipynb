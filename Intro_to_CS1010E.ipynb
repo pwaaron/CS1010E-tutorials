{
  "nbformat": 4,
  "nbformat_minor": 0,
  "metadata": {
    "colab": {
      "name": "Intro to CS1010E",
      "provenance": [],
      "authorship_tag": "ABX9TyNFLx+LWgzs8qDk0QgGr9av",
      "include_colab_link": true
    },
    "kernelspec": {
      "name": "python3",
      "display_name": "Python 3"
    }
  },
  "cells": [
    {
      "cell_type": "markdown",
      "metadata": {
        "id": "view-in-github",
        "colab_type": "text"
      },
      "source": [
        "<a href=\"https://colab.research.google.com/github/pwaaron/CS1010E-tutorials/blob/master/Intro_to_CS1010E.ipynb\" target=\"_parent\"><img src=\"https://colab.research.google.com/assets/colab-badge.svg\" alt=\"Open In Colab\"/></a>"
      ]
    },
    {
      "cell_type": "markdown",
      "metadata": {
        "id": "l0Ue_DwcsQnX",
        "colab_type": "text"
      },
      "source": [
        "# Introduction to **CS1010E Programming Methodology**\n",
        "#### Matheus Aaron, [matheus9@comp.nus.edu.sg](mailto:matheus9@comp.nus.edu.sg)\n",
        "Welcome to CS1010E! \n",
        "As most of you are Engineering students, I believe most of you take this module half-heartedly. Why do I need to learn coding when all I do is engineering? If you think this module is all about coding, then you are dead wrong. \n",
        "This module teaches you how to systematically solve problems. It is called *computational thinking*. You will learn how to solve problems in which you can apply the soft skills in real life. \n",
        "\n",
        "But enough about jargons, what is inside CS1010E?\n",
        "In CS1010E, you will learn programming methodology with `Python`. You will learn how to write a very simple code, repeat some tasks automatically, solving problems, to actually simulating real world.\n",
        "\n",
        "Python itself is cool! You can do a lot with it, namely:\n",
        "\n",
        "*   Image generation\n",
        "*   Machine Learning (ML)\n",
        "*   Artificial Intelligence (AI)\n",
        "\n",
        "*...and many more!*\n",
        "\n",
        "Learning can be tough.\n",
        "\n",
        "![alt text](https://assets.amuniversal.com/2f5456206cc801301d50001dd8b71c47)\n",
        "\n",
        "Well, maybe some of you have heard about the hell of CS1010E.\n",
        "\n",
        "```\n",
        "#73326:  Me after every CS1010E paper and PE... \n",
        "Proff Alan, we love your effort in keeping our attention with every meme you can find. \n",
        "Through one of the web lecture, I realised you spent a lot of time googling for them..\n",
        "So thank you for your time . \n",
        "but I do hope i that will not see you again next sem.\n",
        "```\n",
        "![alt text](https://scontent.xx.fbcdn.net/v/t1.0-9/78312325_3197335607003545_7859685710960263168_o.jpg?_nc_cat=102&_nc_sid=2d5d41&_nc_ohc=iLw8RbWrSlsAX89B1Io&_nc_ht=scontent.xx&oh=906c244e3424455c63b1de4be9c830ae&oe=5F4172A5)\n",
        "So, what are you waiting for? Let us get started."
      ]
    },
    {
      "cell_type": "markdown",
      "metadata": {
        "id": "1vmXUGwatjVd",
        "colab_type": "text"
      },
      "source": [
        "## Preparation\n",
        "Before we get started, run the code below. You will not need to understand what is this code for but for those interested what its for, feel free to ask me later."
      ]
    },
    {
      "cell_type": "code",
      "metadata": {
        "id": "CMA1IqNHtxpO",
        "colab_type": "code",
        "colab": {
          "base_uri": "https://localhost:8080/",
          "height": 170
        },
        "outputId": "031f54e3-f144-4417-e3bf-b918c76f4b07"
      },
      "source": [
        "!pip3 install ColabTurtle \n",
        "from ColabTurtle.Turtle import *"
      ],
      "execution_count": null,
      "outputs": [
        {
          "output_type": "stream",
          "text": [
            "Collecting ColabTurtle\n",
            "  Downloading https://files.pythonhosted.org/packages/49/01/6da7091c2c6c917cce99c000b89acb6aa27b66ef6eafc0c0ccf59b98694f/ColabTurtle-2.0.0.tar.gz\n",
            "Building wheels for collected packages: ColabTurtle\n",
            "  Building wheel for ColabTurtle (setup.py) ... \u001b[?25l\u001b[?25hdone\n",
            "  Created wheel for ColabTurtle: filename=ColabTurtle-2.0.0-cp36-none-any.whl size=4033 sha256=a0fd827f811dcfb5635146477592a7b581049583c54130e7848ec44bbdf9fae1\n",
            "  Stored in directory: /root/.cache/pip/wheels/a8/29/ec/ad346f0042ae467cc74f4378916348faf975b07890651dcae7\n",
            "Successfully built ColabTurtle\n",
            "Installing collected packages: ColabTurtle\n",
            "Successfully installed ColabTurtle-2.0.0\n"
          ],
          "name": "stdout"
        }
      ]
    },
    {
      "cell_type": "markdown",
      "metadata": {
        "id": "OdYReTqit8MK",
        "colab_type": "text"
      },
      "source": [
        "# **Introduction**\n",
        "Your official `Hello world!` in `Python`!"
      ]
    },
    {
      "cell_type": "code",
      "metadata": {
        "id": "Q-TPitOZsP23",
        "colab_type": "code",
        "colab": {
          "base_uri": "https://localhost:8080/",
          "height": 68
        },
        "outputId": "37355f0e-5f2a-4f6a-9776-58cac7fff68d"
      },
      "source": [
        "print(\"Hello world!\")\n",
        "print(\"13\")\n",
        "print(\"8888 8888\")"
      ],
      "execution_count": null,
      "outputs": [
        {
          "output_type": "stream",
          "text": [
            "Hello world!\n",
            "13\n",
            "8888 8888\n"
          ],
          "name": "stdout"
        }
      ]
    },
    {
      "cell_type": "markdown",
      "metadata": {
        "id": "jnvT5CLUv2El",
        "colab_type": "text"
      },
      "source": [
        "## **Data Types**\n",
        "There are four *primitive* data types in Python. They are:\n",
        "\n",
        "1. Integers\n",
        "2. Float\n",
        "3. Strings\n",
        "4. Boolean\n",
        "\n",
        "They are called \"primitive\" as it is already in-built inside Python and can be straight-away used in your code. \n",
        "\n",
        "`Integers` are whole numbers: `10`, `-13`, `313`, `0`\n",
        "\n",
        "`Float` are numbers that are not whole: `3.14`, `-2.222`. The float version of the integers above are simply `10.0`, `-13.0`, `313.0`, and `0.0`\n",
        "\n",
        "`String` are a collection of characters. `'PINUS Ori'`, `'L0L'`, `'@pinus_meliora rocks!'` are examples of strings. `'10'` and `'3.14'` are also strings indicated by the apostrophe (') marks. Unlike Integers and Floats, they cannot be used in mathematical calculations. \n",
        "\n",
        "`Boolean` is a data type that only consist of two values: `True` and `False`. It is used for logic. All the other data types can  be interpreted as `True` or `False`.\n"
      ]
    },
    {
      "cell_type": "code",
      "metadata": {
        "id": "kAn4tk2PvvDp",
        "colab_type": "code",
        "colab": {
          "base_uri": "https://localhost:8080/",
          "height": 136
        },
        "outputId": "73dbc295-e0d8-4d5d-f49b-fedc0ebe5476"
      },
      "source": [
        "my_integer  = 313\n",
        "my_float    = 3.14\n",
        "my_string   = '@pinus_meliora' # Kutip 1\n",
        "my_string   = \"@pinus_meliora\" # Kutip 2 \n",
        "mystr = \"Andy's toys\"\n",
        "my_boolean  = True\n",
        "\n",
        "print('The data type of ' + str(my_integer)   + ' is ' + str(type(my_integer)))\n",
        "print('The data type of ' + str(my_float)     + ' is ' + str(type(my_float)))\n",
        "print('The data type of ' + str(my_string)    + ' is ' + str(type(my_string)))\n",
        "print('The data type of ' + str(my_boolean)   + ' is ' + str(type(my_boolean)))\n",
        "\n",
        "print(\"Andy's toys are Aaron's toys\")\n",
        "print(\" he said \\\"I'm here\\\" \")\n",
        "print(' he said \"I\\'m here\" ')"
      ],
      "execution_count": null,
      "outputs": [
        {
          "output_type": "stream",
          "text": [
            "The data type of 313 is <class 'int'>\n",
            "The data type of 3.14 is <class 'float'>\n",
            "The data type of @pinus_meliora is <class 'str'>\n",
            "The data type of True is <class 'bool'>\n",
            "Andy's toys are Aaron's toys\n",
            " he said \"I'm here\" \n",
            " he said \"I'm here\" \n"
          ],
          "name": "stdout"
        }
      ]
    },
    {
      "cell_type": "markdown",
      "metadata": {
        "id": "4-gquD2Gyy_T",
        "colab_type": "text"
      },
      "source": [
        "## **Variables**\n",
        "\n",
        "Now you have all these amazing data types that you can work with. But, having to input manually the data at each part of your code can be extremely painful. Not only you need to keep track yourself, if you need to change something, you will need to change your entire code. \n",
        "\n",
        "Take this example."
      ]
    },
    {
      "cell_type": "code",
      "metadata": {
        "id": "ZK9_eo_izL0m",
        "colab_type": "code",
        "colab": {
          "base_uri": "https://localhost:8080/",
          "height": 85
        },
        "outputId": "490f833b-165a-4571-8a8b-749dace9f4c1"
      },
      "source": [
        "'''\n",
        "Ratio of area of box to a circle enclosed inside the box\n",
        "Let the length of the box equals to the diameter of the circle be 10. \n",
        "'''\n",
        "print('Ratio of area of box to a circle enclosed inside the box')\n",
        "print((10 * 10) / (4.14 * 5 * 5))\n",
        "\n",
        "'''\n",
        "Sum of area of box and the circle enclosed inside the box\n",
        "Let the length of the box equals to the diameter of the circle be 10. \n",
        "'''\n",
        "print('Sum of area of box and the circle enclosed inside the box')\n",
        "print(10 * 10 + 4.14 * 5 * 5)"
      ],
      "execution_count": null,
      "outputs": [
        {
          "output_type": "stream",
          "text": [
            "Ratio of area of box to a circle enclosed inside the box\n",
            "0.966183574879227\n",
            "Sum of area of box and the circle enclosed inside the box\n",
            "203.5\n"
          ],
          "name": "stdout"
        }
      ]
    },
    {
      "cell_type": "markdown",
      "metadata": {
        "id": "sl4ISQb9z8Cy",
        "colab_type": "text"
      },
      "source": [
        "In the example above, I have made a few calculations. There are certainly a few problems.\n",
        "\n",
        "1. What if I inserted some values wrong? (My *pi* is intentionally wrong.) \n",
        "2. What if I want to change the length of the box?\n",
        "\n",
        "Changing it one by one can be painstaking, not to mention you forgot to change some of the values and break the code. \n",
        "\n",
        "Python, and almost all programming languages in the world, allows you to store values in **variables**.\n",
        "\n",
        "Imagine variables like lockers. Each locker can store an item, in this case a datum. Each locker will have a name. \n",
        "\n",
        "Let us rewrite the code above in a better manner utilising the \"lockers\" Python has provided us."
      ]
    },
    {
      "cell_type": "code",
      "metadata": {
        "id": "YT2U0sOT05i4",
        "colab_type": "code",
        "colab": {
          "base_uri": "https://localhost:8080/",
          "height": 85
        },
        "outputId": "6485525e-94ea-4de9-95f3-5f3e973bdb43"
      },
      "source": [
        "length    = 20 # Change this\n",
        "diameter  = length\n",
        "radius    = diameter / 2\n",
        "PI        = 3.14 # Change this\n",
        "\n",
        "'''\n",
        "Ratio of area of box to a circle enclosed inside the box\n",
        "Let the length of the box equals to the diameter of the circle be 10. \n",
        "'''\n",
        "print('Ratio of area of box to a circle enclosed inside the box')\n",
        "print((length * length) / (PI * radius * radius)) \n",
        "\n",
        "'''\n",
        "Sum of area of box and the circle enclosed inside the box\n",
        "Let the length of the box equals to the diameter of the circle be 10. \n",
        "'''\n",
        "print('Sum of area of box and the circle enclosed inside the box')\n",
        "print(length * length + PI * radius * radius)"
      ],
      "execution_count": null,
      "outputs": [
        {
          "output_type": "stream",
          "text": [
            "Ratio of area of box to a circle enclosed inside the box\n",
            "1.2738853503184713\n",
            "Sum of area of box and the circle enclosed inside the box\n",
            "714.0\n"
          ],
          "name": "stdout"
        }
      ]
    },
    {
      "cell_type": "markdown",
      "metadata": {
        "id": "W5SZnKrj1XWf",
        "colab_type": "text"
      },
      "source": [
        "Much better, isn't it? It is easier to edit as well. Change one part, everything will be updated.\n",
        "\n",
        "## Variable naming rules and convention\n",
        "Now, yes, you can name your variables *almost* anything in this world. However there are some restrictions you must adhere and a convention people usually follow. The rules are **strictly to be adhered**, while a convention may or may not be followed. However, following the convention can make your life much easier.\n",
        "### Rules\n",
        "1. A variable name must start with a letter or the underscore character\n",
        "2. A variable name cannot start with a number\n",
        "3. A variable name can only contain alpha-numeric characters and underscores (A-z, 0-9, and _ )\n",
        "4. Variable names are case-sensitive (age, Age and AGE are three different variables)\n",
        "\n",
        "### Convention\n",
        "1. Do not use names that has been used in the code before\n",
        "2. Use normal characters (no emojis plz)\n",
        "3. Variable names are usually `lowercase` or `lower_case_with_underscores`\n",
        "4. Be descriptive. E.g. `num_of_apples` > `apl`\n",
        "5. Variable names that contains constants (e.g. Pi, Golden Ratio) are named `UPPERCASE` or `UPPER_CASE_WITH_UNDERSCORES`.\n"
      ]
    },
    {
      "cell_type": "markdown",
      "metadata": {
        "id": "9zzVGE0M3SNT",
        "colab_type": "text"
      },
      "source": [
        "## Quick Maths: **Arithmetic Operations**\n",
        "![quick maths](https://media.giphy.com/media/11pOf2WpNoRSKc/giphy.gif)\n",
        "\n",
        "Now, we have been doing maths above. But, we have yet to discuss how Python exactly processes arithmetic calculations. Generally speaking, Python follows the standard operator precedence that we have learnt in school, **BIDMAS**. \n",
        "\n",
        "* **B**rackets ()\n",
        "* **I**ndices **\n",
        "* **D**ivision / or //\n",
        "* **M**ultiplication *\n",
        "* **A**ddition +\n",
        "* **S**ubtraction -\n",
        "\n",
        "For the complete list, refer to the table below\n",
        "\n",
        "![link text](https://img.brainkart.com/extra3/G2hID2U.jpg)\n"
      ]
    },
    {
      "cell_type": "code",
      "metadata": {
        "id": "9qRiL-7H4tVk",
        "colab_type": "code",
        "colab": {
          "base_uri": "https://localhost:8080/",
          "height": 102
        },
        "outputId": "444e3e6a-04a2-4023-ef11-ae91a4dff42e"
      },
      "source": [
        "#################################\n",
        "#          PLAYGROUND           #\n",
        "# Try out some quick mathz here #\n",
        "#################################\n",
        "print('3 + 4 * 5 is ')\n",
        "print(3 + 4 * 5)\n",
        "print('(3 + 4) * 5 is ')\n",
        "print((3 + 4) * 5)\n",
        "\n",
        "13**13"
      ],
      "execution_count": null,
      "outputs": [
        {
          "output_type": "stream",
          "text": [
            "3 + 4 * 5 is \n",
            "23\n",
            "(3 + 4) * 5 is \n",
            "35\n"
          ],
          "name": "stdout"
        },
        {
          "output_type": "execute_result",
          "data": {
            "text/plain": [
              "302875106592253"
            ]
          },
          "metadata": {
            "tags": []
          },
          "execution_count": 17
        }
      ]
    },
    {
      "cell_type": "markdown",
      "metadata": {
        "id": "WhILfUVW5TYP",
        "colab_type": "text"
      },
      "source": [
        "There are some notable arithmetic operators in Python that you may not be aware of before. \n",
        "\n",
        "*   `**` --> exponents. 2 to the power of 3 is 8 written as `2 ** 3`\n",
        "*   `%` --> modulo. 5 divided by 2 is 2 with the remainder of 1. `5 % 2` will produce the remainder, which is `1`.\n",
        "*   `/` vs `//` --> / is an ordinary division which will produce `Float` while // is a _floor_ division which will produce `Integer`.\n",
        "\n",
        "###Remarks:\n",
        "\n",
        "*   Modulo `%` is often used to check for divisibility and whether a number is odd or not. When `number % 2`, odd numbers will produce `1` while even numbers will produce `0` \n",
        "*   Floor division `//` is often used to remove the digits of a _positive_ number by `number // 10`. \n",
        "\n",
        "\n",
        "\n",
        "\n"
      ]
    },
    {
      "cell_type": "code",
      "metadata": {
        "id": "OIVt69X75HQv",
        "colab_type": "code",
        "colab": {
          "base_uri": "https://localhost:8080/",
          "height": 255
        },
        "outputId": "c2720fd6-9cc4-4ba8-88d8-67a52f8e7561"
      },
      "source": [
        "print('2 ** 3 = ' + str(2 ** 3))\n",
        "print('5 % 2 = '  + str(5 % 2))\n",
        "print('5 / 2 = '  + str(5 / 2))\n",
        "print('5 // 2 = ' + str(5 // 2))\n",
        "print()\n",
        "print('-10 / 4 = '  + str(-10 / 4))\n",
        "print('-10 // 4 = ' + str(-10 // 4))\n",
        "print()\n",
        "print('Remarks:')\n",
        "print('Odd number 5 % 2 = '  + str(5 % 2))\n",
        "print('Even number 6 % 2 = ' + str(6 % 2))\n",
        "print()\n",
        "print('12345 // 10 = '  + str(12345 // 10))\n",
        "print('12345 // 10 // 10 = '  + str(12345 // 10 // 10))"
      ],
      "execution_count": null,
      "outputs": [
        {
          "output_type": "stream",
          "text": [
            "2 ** 3 = 8\n",
            "5 % 2 = 1\n",
            "5 / 2 = 2.5\n",
            "5 // 2 = 2\n",
            "\n",
            "-10 / 4 = -2.5\n",
            "-10 // 4 = -3\n",
            "\n",
            "Remarks:\n",
            "Odd number 5 % 2 = 1\n",
            "Even number 6 % 2 = 0\n",
            "\n",
            "12345 // 10 = 1234\n",
            "12345 // 10 // 10 = 123\n"
          ],
          "name": "stdout"
        }
      ]
    },
    {
      "cell_type": "markdown",
      "metadata": {
        "id": "XrPS0FjZ0x_A",
        "colab_type": "text"
      },
      "source": [
        "### Now You See Me: **String Manipulation**\n",
        "Like numbers where you can make calculations, you can **add** and **multiply** strings."
      ]
    },
    {
      "cell_type": "code",
      "metadata": {
        "id": "BDP9OqV61ALR",
        "colab_type": "code",
        "colab": {
          "base_uri": "https://localhost:8080/",
          "height": 35
        },
        "outputId": "ffcce6b2-3317-4859-b190-d3334416a7d1"
      },
      "source": [
        "'PINUS ' + 'ORI ' + 2 * '20' "
      ],
      "execution_count": null,
      "outputs": [
        {
          "output_type": "execute_result",
          "data": {
            "application/vnd.google.colaboratory.intrinsic+json": {
              "type": "string"
            },
            "text/plain": [
              "'PINUS ORI 2020'"
            ]
          },
          "metadata": {
            "tags": []
          },
          "execution_count": 22
        }
      ]
    },
    {
      "cell_type": "markdown",
      "metadata": {
        "id": "WMrdmxAF1IGN",
        "colab_type": "text"
      },
      "source": [
        "You cannot subtract nor divide string by anything."
      ]
    },
    {
      "cell_type": "code",
      "metadata": {
        "id": "CDYv35qX1K8V",
        "colab_type": "code",
        "colab": {
          "base_uri": "https://localhost:8080/",
          "height": 164
        },
        "outputId": "f3074196-f6ec-448a-dd2f-15ce625240b2"
      },
      "source": [
        "( 'PINUS ' + 'ORI ' ) / 2020"
      ],
      "execution_count": null,
      "outputs": [
        {
          "output_type": "error",
          "ename": "TypeError",
          "evalue": "ignored",
          "traceback": [
            "\u001b[0;31m---------------------------------------------------------------------------\u001b[0m",
            "\u001b[0;31mTypeError\u001b[0m                                 Traceback (most recent call last)",
            "\u001b[0;32m<ipython-input-23-0399ee9a97d4>\u001b[0m in \u001b[0;36m<module>\u001b[0;34m()\u001b[0m\n\u001b[0;32m----> 1\u001b[0;31m \u001b[0;34m(\u001b[0m \u001b[0;34m'PINUS '\u001b[0m \u001b[0;34m+\u001b[0m \u001b[0;34m'ORI '\u001b[0m \u001b[0;34m)\u001b[0m \u001b[0;34m/\u001b[0m \u001b[0;36m2020\u001b[0m\u001b[0;34m\u001b[0m\u001b[0;34m\u001b[0m\u001b[0m\n\u001b[0m",
            "\u001b[0;31mTypeError\u001b[0m: unsupported operand type(s) for /: 'str' and 'int'"
          ]
        }
      ]
    },
    {
      "cell_type": "code",
      "metadata": {
        "id": "qrV4pwcc1TIX",
        "colab_type": "code",
        "colab": {
          "base_uri": "https://localhost:8080/",
          "height": 164
        },
        "outputId": "37174a21-2953-420f-a7a1-4774b08346ce"
      },
      "source": [
        "'PINUS ' + 'ORI ' - 'ORI'"
      ],
      "execution_count": null,
      "outputs": [
        {
          "output_type": "error",
          "ename": "TypeError",
          "evalue": "ignored",
          "traceback": [
            "\u001b[0;31m---------------------------------------------------------------------------\u001b[0m",
            "\u001b[0;31mTypeError\u001b[0m                                 Traceback (most recent call last)",
            "\u001b[0;32m<ipython-input-24-dd05ac4e6d8b>\u001b[0m in \u001b[0;36m<module>\u001b[0;34m()\u001b[0m\n\u001b[0;32m----> 1\u001b[0;31m \u001b[0;34m'PINUS '\u001b[0m \u001b[0;34m+\u001b[0m \u001b[0;34m'ORI '\u001b[0m \u001b[0;34m-\u001b[0m \u001b[0;34m'ORI'\u001b[0m\u001b[0;34m\u001b[0m\u001b[0;34m\u001b[0m\u001b[0m\n\u001b[0m",
            "\u001b[0;31mTypeError\u001b[0m: unsupported operand type(s) for -: 'str' and 'str'"
          ]
        }
      ]
    },
    {
      "cell_type": "markdown",
      "metadata": {
        "id": "aSsmwZ5s1Xux",
        "colab_type": "text"
      },
      "source": [
        "Mixing numbers and strings are an even bigger sin."
      ]
    },
    {
      "cell_type": "code",
      "metadata": {
        "id": "YArrid9a1aMA",
        "colab_type": "code",
        "colab": {
          "base_uri": "https://localhost:8080/",
          "height": 164
        },
        "outputId": "904014c3-bba3-4855-f618-6776e64554fd"
      },
      "source": [
        "'2000' + 20"
      ],
      "execution_count": null,
      "outputs": [
        {
          "output_type": "error",
          "ename": "TypeError",
          "evalue": "ignored",
          "traceback": [
            "\u001b[0;31m---------------------------------------------------------------------------\u001b[0m",
            "\u001b[0;31mTypeError\u001b[0m                                 Traceback (most recent call last)",
            "\u001b[0;32m<ipython-input-25-a3309e8619f4>\u001b[0m in \u001b[0;36m<module>\u001b[0;34m()\u001b[0m\n\u001b[0;32m----> 1\u001b[0;31m \u001b[0;34m'2000'\u001b[0m \u001b[0;34m+\u001b[0m \u001b[0;36m20\u001b[0m\u001b[0;34m\u001b[0m\u001b[0;34m\u001b[0m\u001b[0m\n\u001b[0m",
            "\u001b[0;31mTypeError\u001b[0m: must be str, not int"
          ]
        }
      ]
    },
    {
      "cell_type": "markdown",
      "metadata": {
        "id": "Nw7C_hHc1jgg",
        "colab_type": "text"
      },
      "source": [
        "Make sure you convert data types if mixing them is indeed your intentions."
      ]
    },
    {
      "cell_type": "code",
      "metadata": {
        "id": "Thj2-1GN1ngS",
        "colab_type": "code",
        "colab": {
          "base_uri": "https://localhost:8080/",
          "height": 34
        },
        "outputId": "de9b382c-9972-4b3b-8a56-da893660f220"
      },
      "source": [
        "int('2000') + 20"
      ],
      "execution_count": null,
      "outputs": [
        {
          "output_type": "execute_result",
          "data": {
            "text/plain": [
              "2020"
            ]
          },
          "metadata": {
            "tags": []
          },
          "execution_count": 26
        }
      ]
    },
    {
      "cell_type": "code",
      "metadata": {
        "id": "mEhXdars1qn0",
        "colab_type": "code",
        "colab": {
          "base_uri": "https://localhost:8080/",
          "height": 35
        },
        "outputId": "b5dac559-06e5-4f6f-fd73-8015032fbb9c"
      },
      "source": [
        "'2000' + str(20)"
      ],
      "execution_count": null,
      "outputs": [
        {
          "output_type": "execute_result",
          "data": {
            "application/vnd.google.colaboratory.intrinsic+json": {
              "type": "string"
            },
            "text/plain": [
              "'200020'"
            ]
          },
          "metadata": {
            "tags": []
          },
          "execution_count": 27
        }
      ]
    },
    {
      "cell_type": "markdown",
      "metadata": {
        "id": "wBL_DCdAqZoh",
        "colab_type": "text"
      },
      "source": [
        "## Make my first ever machine: **Functions**\n",
        "Did you remember your math class where you learn about functions?\n",
        "```\n",
        "f(x) = y\n",
        "g(x, y) = z\n",
        "```\n",
        "It takes in one/several inputs and returns (an) output. *(Python functions can have several **output** although will not be used in CS1010E.)*\n",
        "\n",
        "The formal way of defining a function is as follows.\n",
        "```\n",
        "def function_name(parameter_1, parameter_2, ...):\n",
        "  do_something()\n",
        "  return output_value\n",
        "```\n",
        "Let us just try it out so you understand."
      ]
    },
    {
      "cell_type": "code",
      "metadata": {
        "id": "tZzauSJ8ri__",
        "colab_type": "code",
        "colab": {
          "base_uri": "https://localhost:8080/",
          "height": 51
        },
        "outputId": "f9d64ac1-04c4-4baa-d590-5c7defbc2204"
      },
      "source": [
        "def square(x):\n",
        "  return x * x\n",
        "\n",
        "def power(x, y):\n",
        "  return x ** y\n",
        "\n",
        "print('The square of 3 is ' + str( square(3) ))\n",
        "print('2 to the power of 3 is ' + str( power(2, 3) ))"
      ],
      "execution_count": null,
      "outputs": [
        {
          "output_type": "stream",
          "text": [
            "The square of 3 is 9\n",
            "2 to the power of 3 is 8\n"
          ],
          "name": "stdout"
        }
      ]
    },
    {
      "cell_type": "markdown",
      "metadata": {
        "id": "mCwlrv27r9RJ",
        "colab_type": "text"
      },
      "source": [
        "Funtions can call other functions as well.\n",
        "This is called **abstraction**. You will learn more about this in the second-half of the semester."
      ]
    },
    {
      "cell_type": "code",
      "metadata": {
        "id": "26D3JW1lsAIY",
        "colab_type": "code",
        "colab": {
          "base_uri": "https://localhost:8080/",
          "height": 51
        },
        "outputId": "5edabb5d-18cb-4aa7-83da-42954ebee807"
      },
      "source": [
        "def power(x, y):\n",
        "  return x ** y\n",
        "\n",
        "def square(x):\n",
        "  return power(x, 2) \n",
        "  # calling other functions\n",
        "  # make sure the functions called have been defined before\n",
        "\n",
        "print('The square of 3 is ' + str( square(3) ))\n",
        "print('2 to the power of 3 is ' + str( power(2, 3) ))"
      ],
      "execution_count": null,
      "outputs": [
        {
          "output_type": "stream",
          "text": [
            "The square of 3 is 9\n",
            "2 to the power of 3 is 8\n"
          ],
          "name": "stdout"
        }
      ]
    },
    {
      "cell_type": "markdown",
      "metadata": {
        "id": "UGOINmBisZrq",
        "colab_type": "text"
      },
      "source": [
        "### `print()` vs `return`: What's the difference?\n",
        "If you run both functions below, it looks the same. What happens?"
      ]
    },
    {
      "cell_type": "code",
      "metadata": {
        "id": "gDu5v7CusY-G",
        "colab_type": "code",
        "colab": {
          "base_uri": "https://localhost:8080/",
          "height": 34
        },
        "outputId": "335dbbad-c45f-43d3-b879-0a2564ca91f4"
      },
      "source": [
        "def print_square(x):\n",
        "  print(power(x, 2))\n",
        "\n",
        "print_square(3) "
      ],
      "execution_count": null,
      "outputs": [
        {
          "output_type": "stream",
          "text": [
            "9\n"
          ],
          "name": "stdout"
        }
      ]
    },
    {
      "cell_type": "code",
      "metadata": {
        "id": "ipETHOvjsw80",
        "colab_type": "code",
        "colab": {
          "base_uri": "https://localhost:8080/",
          "height": 34
        },
        "outputId": "61d5087a-4786-4bbf-9203-216ba07cae25"
      },
      "source": [
        "def return_square(x):\n",
        "  return power(x,2)\n",
        "\n",
        "return_square(3)"
      ],
      "execution_count": null,
      "outputs": [
        {
          "output_type": "execute_result",
          "data": {
            "text/plain": [
              "9"
            ]
          },
          "metadata": {
            "tags": []
          },
          "execution_count": 38
        }
      ]
    },
    {
      "cell_type": "markdown",
      "metadata": {
        "id": "aqAH3_eys3So",
        "colab_type": "text"
      },
      "source": [
        "The answer itself is rather philosophical. \n",
        "`print()` itself does not actually return anything. The function will only returns a None object. It will only shows the results on the **user's screen**.\n",
        "`return` statements itself actually spouts an actual object and when there are nothing else on the screen, Python will auto-print it. \n",
        "\n",
        "The following shall make the distinction clear.\n"
      ]
    },
    {
      "cell_type": "code",
      "metadata": {
        "id": "6daNr6JoteD1",
        "colab_type": "code",
        "colab": {
          "base_uri": "https://localhost:8080/",
          "height": 85
        },
        "outputId": "4462f5c9-4994-46fa-c046-12f3299c7796"
      },
      "source": [
        "print_result  =  print_square(5)\n",
        "return_result = return_square(5)\n",
        "\n",
        "print('=== PRINTING OUTPUT ===')\n",
        "print(print_result)\n",
        "print(return_result)"
      ],
      "execution_count": null,
      "outputs": [
        {
          "output_type": "stream",
          "text": [
            "25\n",
            "=== PRINTING OUTPUT ===\n",
            "None\n",
            "25\n"
          ],
          "name": "stdout"
        }
      ]
    },
    {
      "cell_type": "markdown",
      "metadata": {
        "id": "tDINIR0ot9F4",
        "colab_type": "text"
      },
      "source": [
        "The first `25` was printed as when `print_square(5)` was ran, the function executes the `print` statement and returns `None`. "
      ]
    },
    {
      "cell_type": "markdown",
      "metadata": {
        "id": "apBDauff8Zh0",
        "colab_type": "text"
      },
      "source": [
        "## Theory of Relativity: **Comparison**\n",
        "\n",
        "In coding, it is important to know what is greater than the other. \n",
        "Sure, we know 2 is greater than 1. But how about 'alphabet' to 'Alphabet'? Or perhaps comparing string to integer?\n",
        "\n",
        "You are able to compare data by using standard comparisons.\n",
        "\n",
        "*   `>` greater than\n",
        "*   `>=` greater or equal than \n",
        "*   `==` equal to\n",
        "*   `<=` less or equal than\n",
        "*   `<` less than\n",
        "*   `!=` not equal to\n",
        "*   `is` the same object *(We'll talk about it later)*\n",
        "\n",
        "Comparing numbers are easy. I do not need to tell you that.\n",
        "Comparing strings? The rule of thumb is to follow a **dictionary**. Words that comes up first are \"smaller\" than words that comes later. This implies that:\n",
        "*   \"aaaa\" < \"aaab\" *(Given that both strings share the same characters in the beginning, you start comparing it at the character where it is different.)*\n",
        "*   \"aaa\" < \"aaab\" *(Shorter words are smaller given the conditions above.)*\n",
        "*   \"bbb\" > \"bbaa\"\n",
        "\n",
        "Now what is the string is a combination of non-alphabets? Numbers? Special characters? Capital letters?\n",
        "\n",
        "Follow the ASCII table!\n",
        "![alt text](https://upload.wikimedia.org/wikipedia/commons/thumb/d/dd/ASCII-Table.svg/1200px-ASCII-Table.svg.png)\n",
        "\n",
        "In a nutshell, these are the order of characters from the smallest to the biggest.\n",
        "*  Special characters ` !\"#$%^'&()*+,-./ `\n",
        "*  Numbers `0123456789`\n",
        "*  (More) Special Characters `:;<=>?@`\n",
        "*  UPPERCASE ALPHABETS `ABCDEFGHIJKLMNOPQRSTUVWXYZ`\n",
        "*  (Even more) (Obscure) Special Characters `[\\]^_`\n",
        "*  lowercase alphabets `abcdefghijklmnopqrstuvwxyz`\n",
        "*  (I promise) The last special characters `{|}~`\n",
        "\n",
        "You just need to remember that **numbers < UPPERCASE < lowercase**\n",
        "\n",
        "Now try to guess the output of the codes below. Don't cheat.\n",
        "\n",
        "\n"
      ]
    },
    {
      "cell_type": "code",
      "metadata": {
        "id": "XCdP68DN8eMp",
        "colab_type": "code",
        "colab": {
          "base_uri": "https://localhost:8080/",
          "height": 85
        },
        "outputId": "895f76b0-5060-4143-9d65-6d8b7dba8cd8"
      },
      "source": [
        "print('CS1010E ' < 'CS1010E')\n",
        "print('' == ' ')\n",
        "print('2020' < '20twenty')\n",
        "print('@cs_1010_e' != '@cs1010e')"
      ],
      "execution_count": null,
      "outputs": [
        {
          "output_type": "stream",
          "text": [
            "False\n",
            "False\n",
            "True\n",
            "True\n"
          ],
          "name": "stdout"
        }
      ]
    },
    {
      "cell_type": "markdown",
      "metadata": {
        "id": "Cipaz5F9uwZ6",
        "colab_type": "text"
      },
      "source": [
        "## One small step for man, one giant leap for mankind: **Logic of `If-Else` statement**\n",
        "###### *AKA your very very first Artificial Intelligence model*\n",
        "\n",
        "What happens if you try to divide any number with 0? "
      ]
    },
    {
      "cell_type": "code",
      "metadata": {
        "id": "F_ISRe-5vcgm",
        "colab_type": "code",
        "colab": {
          "base_uri": "https://localhost:8080/",
          "height": 300
        },
        "outputId": "b91cdf53-9e43-49f8-acef-27518d1ff998"
      },
      "source": [
        "def divide(numerator, denominator):\n",
        "  return numerator / denominator\n",
        "\n",
        "divide(13572548178123, 0)"
      ],
      "execution_count": null,
      "outputs": [
        {
          "output_type": "error",
          "ename": "ZeroDivisionError",
          "evalue": "ignored",
          "traceback": [
            "\u001b[0;31m---------------------------------------------------------------------------\u001b[0m",
            "\u001b[0;31mZeroDivisionError\u001b[0m                         Traceback (most recent call last)",
            "\u001b[0;32m<ipython-input-40-025a4b0cd3f8>\u001b[0m in \u001b[0;36m<module>\u001b[0;34m()\u001b[0m\n\u001b[1;32m      2\u001b[0m   \u001b[0;32mreturn\u001b[0m \u001b[0mnumerator\u001b[0m \u001b[0;34m/\u001b[0m \u001b[0mdenominator\u001b[0m\u001b[0;34m\u001b[0m\u001b[0;34m\u001b[0m\u001b[0m\n\u001b[1;32m      3\u001b[0m \u001b[0;34m\u001b[0m\u001b[0m\n\u001b[0;32m----> 4\u001b[0;31m \u001b[0mdivide\u001b[0m\u001b[0;34m(\u001b[0m\u001b[0;36m13572548178123\u001b[0m\u001b[0;34m,\u001b[0m \u001b[0;36m0\u001b[0m\u001b[0;34m)\u001b[0m\u001b[0;34m\u001b[0m\u001b[0;34m\u001b[0m\u001b[0m\n\u001b[0m",
            "\u001b[0;32m<ipython-input-40-025a4b0cd3f8>\u001b[0m in \u001b[0;36mdivide\u001b[0;34m(numerator, denominator)\u001b[0m\n\u001b[1;32m      1\u001b[0m \u001b[0;32mdef\u001b[0m \u001b[0mdivide\u001b[0m\u001b[0;34m(\u001b[0m\u001b[0mnumerator\u001b[0m\u001b[0;34m,\u001b[0m \u001b[0mdenominator\u001b[0m\u001b[0;34m)\u001b[0m\u001b[0;34m:\u001b[0m\u001b[0;34m\u001b[0m\u001b[0;34m\u001b[0m\u001b[0m\n\u001b[0;32m----> 2\u001b[0;31m   \u001b[0;32mreturn\u001b[0m \u001b[0mnumerator\u001b[0m \u001b[0;34m/\u001b[0m \u001b[0mdenominator\u001b[0m\u001b[0;34m\u001b[0m\u001b[0;34m\u001b[0m\u001b[0m\n\u001b[0m\u001b[1;32m      3\u001b[0m \u001b[0;34m\u001b[0m\u001b[0m\n\u001b[1;32m      4\u001b[0m \u001b[0mdivide\u001b[0m\u001b[0;34m(\u001b[0m\u001b[0;36m13572548178123\u001b[0m\u001b[0;34m,\u001b[0m \u001b[0;36m0\u001b[0m\u001b[0;34m)\u001b[0m\u001b[0;34m\u001b[0m\u001b[0;34m\u001b[0m\u001b[0m\n",
            "\u001b[0;31mZeroDivisionError\u001b[0m: division by zero"
          ]
        }
      ]
    },
    {
      "cell_type": "markdown",
      "metadata": {
        "id": "3cn5wGWKvgVy",
        "colab_type": "text"
      },
      "source": [
        "*Yikes!* That sucks.\n",
        "\n",
        "What if we can prevent such things from happening?\n",
        "\n",
        "We know that a denominator should not be 0 before the world goes mad. We can create a conditional using `if-else`.\n",
        "\n",
        "The general code is as follows:\n",
        "\n",
        "```\n",
        "if <boolean statement 1>:\n",
        "  do_something_1() # only if the statement above is True\n",
        "elif <boolean statement 2>:\n",
        "  do_something_2() # only if statement1 is False and statement2 is True\n",
        "\n",
        "  ...\n",
        "\n",
        "elif <boolean statement n>:\n",
        "  do_something_n() # only if statement 1 to n-1 is False and statement n is True\n",
        "\n",
        "else:\n",
        "  i_give_up() # only executed if all the statements above is false\n",
        "```\n",
        "Please note that elif and else is not required.\n",
        "\n",
        "This is a valid code.\n",
        "```\n",
        "if PINUSOriIsAwesome():\n",
        "  print('Hip Hip hooray!')\n",
        "``` \n",
        "\n",
        "This is valid as well.\n",
        "```\n",
        "if PINUSOriIsAwesome():\n",
        "  print('Sik sikk broo')\n",
        "elif PINUSOriIsMeh():\n",
        "  print('Not bad leh...')\n",
        "```\n",
        "This is **NOT** valid.\n",
        "\n"
      ]
    },
    {
      "cell_type": "code",
      "metadata": {
        "id": "_cNSrlda4rao",
        "colab_type": "code",
        "colab": {
          "base_uri": "https://localhost:8080/",
          "height": 130
        },
        "outputId": "4eda0150-cc73-49a6-c739-b36718319b14"
      },
      "source": [
        "elif True:\n",
        "  print('told you so')"
      ],
      "execution_count": null,
      "outputs": [
        {
          "output_type": "error",
          "ename": "SyntaxError",
          "evalue": "ignored",
          "traceback": [
            "\u001b[0;36m  File \u001b[0;32m\"<ipython-input-44-5a94314b178b>\"\u001b[0;36m, line \u001b[0;32m1\u001b[0m\n\u001b[0;31m    elif True:\u001b[0m\n\u001b[0m       ^\u001b[0m\n\u001b[0;31mSyntaxError\u001b[0m\u001b[0;31m:\u001b[0m invalid syntax\n"
          ]
        }
      ]
    },
    {
      "cell_type": "code",
      "metadata": {
        "id": "ahxjiY8h4wdo",
        "colab_type": "code",
        "colab": {
          "base_uri": "https://localhost:8080/",
          "height": 130
        },
        "outputId": "d2b0d425-d491-405a-ad2e-74c9228b50c9"
      },
      "source": [
        "else:\n",
        "  print('told you so')"
      ],
      "execution_count": null,
      "outputs": [
        {
          "output_type": "error",
          "ename": "SyntaxError",
          "evalue": "ignored",
          "traceback": [
            "\u001b[0;36m  File \u001b[0;32m\"<ipython-input-45-267cda0a7fb7>\"\u001b[0;36m, line \u001b[0;32m1\u001b[0m\n\u001b[0;31m    else:\u001b[0m\n\u001b[0m       ^\u001b[0m\n\u001b[0;31mSyntaxError\u001b[0m\u001b[0;31m:\u001b[0m invalid syntax\n"
          ]
        }
      ]
    },
    {
      "cell_type": "markdown",
      "metadata": {
        "id": "m2-FwxFn44hw",
        "colab_type": "text"
      },
      "source": [
        "Now, let us try adding a conditional to our function above."
      ]
    },
    {
      "cell_type": "code",
      "metadata": {
        "id": "pjh5XI94vfY5",
        "colab_type": "code",
        "colab": {
          "base_uri": "https://localhost:8080/",
          "height": 35
        },
        "outputId": "1bcb5f32-77c2-4279-bc36-395dd3228f1b"
      },
      "source": [
        "def divide(numerator, denominator):\n",
        "  if denominator == 0:\n",
        "    return 'YOU CANNOT DIVIDE BY 0'\n",
        "  else:\n",
        "    return numerator / denominator\n",
        "\n",
        "divide(13572548178123, 0)"
      ],
      "execution_count": null,
      "outputs": [
        {
          "output_type": "execute_result",
          "data": {
            "application/vnd.google.colaboratory.intrinsic+json": {
              "type": "string"
            },
            "text/plain": [
              "'YOU CANNOT DIVIDE BY 0, DUMBASS'"
            ]
          },
          "metadata": {
            "tags": []
          },
          "execution_count": 43
        }
      ]
    },
    {
      "cell_type": "markdown",
      "metadata": {
        "id": "FkjLAARkxhfQ",
        "colab_type": "text"
      },
      "source": [
        "The following codes are valid as well. \n",
        "\n",
        "Why are they valid?"
      ]
    },
    {
      "cell_type": "code",
      "metadata": {
        "id": "lZC7DZEuxknF",
        "colab_type": "code",
        "colab": {
          "base_uri": "https://localhost:8080/",
          "height": 35
        },
        "outputId": "dd3ed3b8-6480-46e1-9dc7-472c63666567"
      },
      "source": [
        "def divide(numerator, denominator):\n",
        "  if denominator == 0:\n",
        "    return 'YOU CANNOT DIVIDE BY 0'\n",
        "  \n",
        "  return numerator / denominator\n",
        "\n",
        "divide(13572548178123, 0)"
      ],
      "execution_count": null,
      "outputs": [
        {
          "output_type": "execute_result",
          "data": {
            "application/vnd.google.colaboratory.intrinsic+json": {
              "type": "string"
            },
            "text/plain": [
              "'YOU CANNOT DIVIDE BY 0, DUMBASS'"
            ]
          },
          "metadata": {
            "tags": []
          },
          "execution_count": 46
        }
      ]
    },
    {
      "cell_type": "code",
      "metadata": {
        "id": "QG8Nzy-Vxn97",
        "colab_type": "code",
        "colab": {
          "base_uri": "https://localhost:8080/",
          "height": 35
        },
        "outputId": "e2aab1ed-5bcb-4cdb-b850-72c29fd68f62"
      },
      "source": [
        "def divide(numerator, denominator):\n",
        "  if denominator: #denominator becomes 0 --> False\n",
        "    return numerator / denominator\n",
        "  \n",
        "  return 'YOU CANNOT DIVIDE BY 0, DUMBASS'\n",
        "\n",
        "divide(13572548178123, 0)"
      ],
      "execution_count": null,
      "outputs": [
        {
          "output_type": "execute_result",
          "data": {
            "application/vnd.google.colaboratory.intrinsic+json": {
              "type": "string"
            },
            "text/plain": [
              "'YOU CANNOT DIVIDE BY 0, DUMBASS'"
            ]
          },
          "metadata": {
            "tags": []
          },
          "execution_count": 47
        }
      ]
    },
    {
      "cell_type": "code",
      "metadata": {
        "id": "U8bZ1Q70_JYn",
        "colab_type": "code",
        "colab": {
          "base_uri": "https://localhost:8080/",
          "height": 34
        },
        "outputId": "3bc26b04-f5e8-40ba-b066-22e28822cd48"
      },
      "source": [
        "'''\n",
        "If the data is not empty or 0, it is evaluated as True.\n",
        "Empty string ''\n",
        "Number 0\n",
        "0.0\n",
        "...\n",
        "'''\n",
        "if 0.0:\n",
        "  print(\"It is true\")\n",
        "else:\n",
        "  print(\"It is false\")"
      ],
      "execution_count": null,
      "outputs": [
        {
          "output_type": "stream",
          "text": [
            "It is false\n"
          ],
          "name": "stdout"
        }
      ]
    },
    {
      "cell_type": "code",
      "metadata": {
        "id": "UYUVozc5_71Z",
        "colab_type": "code",
        "colab": {
          "base_uri": "https://localhost:8080/",
          "height": 51
        },
        "outputId": "613f9f8a-48d6-4077-de1d-a20d74465929"
      },
      "source": [
        "## Set 1\n",
        "if True:\n",
        "  print(\"line 1\")\n",
        "\n",
        "## Set 2\n",
        "if True:\n",
        "  print(\"line 2\")\n",
        "else:\n",
        "  print(\"line 3\")"
      ],
      "execution_count": null,
      "outputs": [
        {
          "output_type": "stream",
          "text": [
            "line 1\n",
            "line 2\n"
          ],
          "name": "stdout"
        }
      ]
    },
    {
      "cell_type": "code",
      "metadata": {
        "id": "OTH938rcAZh2",
        "colab_type": "code",
        "colab": {
          "base_uri": "https://localhost:8080/",
          "height": 34
        },
        "outputId": "9d5c0810-99df-4c1a-808b-50c6752d93f4"
      },
      "source": [
        "if True: #1\n",
        "  if False: #2\n",
        "    print(\"line 1\")\n",
        "  else: #2\n",
        "    print(\"line 2\")\n",
        "#####################\n",
        "else: #1\n",
        "  print(\"line 3\")"
      ],
      "execution_count": null,
      "outputs": [
        {
          "output_type": "stream",
          "text": [
            "line 2\n"
          ],
          "name": "stdout"
        }
      ]
    },
    {
      "cell_type": "code",
      "metadata": {
        "id": "IpSg_vw4A69T",
        "colab_type": "code",
        "colab": {
          "base_uri": "https://localhost:8080/",
          "height": 51
        },
        "outputId": "c5ce7abe-26bf-413f-a926-efd9cb358cae"
      },
      "source": [
        "# and\n",
        "# or\n",
        "# not\n",
        "\n",
        "if ((2 > 3) or (3 < 4)) and (4 < 5):\n",
        "  print(\"COMBINED!\")\n",
        "\n",
        "'''\n",
        "This actually happened\n",
        "'''\n",
        "if ((2 > 3) or (3 < 4)):\n",
        "  if (4 < 5):\n",
        "    print(\"COMBINED!\")\n",
        "\n",
        "if (2 > 3) and (3 < 4):\n",
        "  print(\"NO COMBINED!\")\n",
        "\n",
        "if not (2 > 3) and (3 < 4):\n",
        "  print(\"kinda COMBINED!\")"
      ],
      "execution_count": null,
      "outputs": [
        {
          "output_type": "stream",
          "text": [
            "COMBINED!\n",
            "kinda COMBINED!\n"
          ],
          "name": "stdout"
        }
      ]
    },
    {
      "cell_type": "markdown",
      "metadata": {
        "id": "fXrY68bDAWqK",
        "colab_type": "text"
      },
      "source": [
        "## Keep me in the **Loop**: For and While\n",
        "\n",
        "Imaging you are running in a 42 km marathon.\n",
        "\n",
        "\n",
        "```\n",
        "leftStep()\n",
        "rightStep()\n",
        ".\n",
        "```\n",
        "![alt text](https://i.imgflip.com/48rdu4.jpg)\n",
        "```\n",
        ".\n",
        "leftStep()\n",
        "rightStep()\n",
        "```\n",
        "This is pure madness!"
      ]
    },
    {
      "cell_type": "markdown",
      "metadata": {
        "id": "VLAA5MVVdZYq",
        "colab_type": "text"
      },
      "source": [
        "### Introducing the **`for`** loop!\n",
        " \n",
        "If you know the distance of the marathon (which you do when you signed up) and the distance you cover for every step, you can count the number of steps you make and repeat it over and over again. \n",
        "```\n",
        "DISTANCE = 10 * 1000 * 100 #10 km * 1000 m * 100 cm\n",
        "STEP_SIZE = 20 # cm\n",
        "num_of_steps_needed = DISTANCE / STEP_SIZE\n",
        "\n",
        "for n in range(num_of_steps_needed):\n",
        "  left_step()\n",
        "  right_step()\n",
        "```\n",
        "\n",
        "\n"
      ]
    },
    {
      "cell_type": "markdown",
      "metadata": {
        "id": "Cim5slCxjWw_",
        "colab_type": "text"
      },
      "source": [
        "The very basic code for a for loop is:\n",
        "\n",
        "\n",
        "```\n",
        "for item in array:\n",
        "  do_something()\n",
        "```\n",
        "For now, we will learn using `range(n)` to replace the array. \n",
        "Long story short, run the code below to know how it works."
      ]
    },
    {
      "cell_type": "code",
      "metadata": {
        "id": "qOUhDtUcjq1h",
        "colab_type": "code",
        "colab": {
          "base_uri": "https://localhost:8080/",
          "height": 187
        },
        "outputId": "16363664-e703-4be7-c171-b2ea3401c3b9"
      },
      "source": [
        "N = 10\n",
        "\n",
        "for index in range(N):\n",
        "  print(index)"
      ],
      "execution_count": null,
      "outputs": [
        {
          "output_type": "stream",
          "text": [
            "0\n",
            "1\n",
            "2\n",
            "3\n",
            "4\n",
            "5\n",
            "6\n",
            "7\n",
            "8\n",
            "9\n"
          ],
          "name": "stdout"
        }
      ]
    },
    {
      "cell_type": "markdown",
      "metadata": {
        "id": "HKYs6Wejj2_9",
        "colab_type": "text"
      },
      "source": [
        "### Learning how to draw\n",
        "We will use the package `turtle` here. `turtle` allows us to draw using Python. Here is a code to draw a square."
      ]
    },
    {
      "cell_type": "code",
      "metadata": {
        "id": "HjYnth91giX9",
        "colab_type": "code",
        "colab": {
          "base_uri": "https://localhost:8080/",
          "height": 521
        },
        "outputId": "d8e7ad31-6d59-42ac-f3fc-e01986f2a42f"
      },
      "source": [
        "initializeTurtle() #ignore this for now\n",
        "\n",
        "forward(100)\n",
        "left(90)\n",
        "forward(100)\n",
        "left(90)\n",
        "forward(100)\n",
        "left(90)\n",
        "forward(100)\n",
        "left(90)"
      ],
      "execution_count": null,
      "outputs": [
        {
          "output_type": "display_data",
          "data": {
            "text/html": [
              "\n",
              "      <svg width=\"800\" height=\"500\">\n",
              "        <rect width=\"100%\" height=\"100%\" fill=\"black\"/>\n",
              "        <line x1=\"400\" y1=\"250\" x2=\"400.0\" y2=\"150.0\" stroke-linecap=\"round\" style=\"stroke:white;stroke-width:4\"/><line x1=\"400.0\" y1=\"150.0\" x2=\"300.0\" y2=\"150.0\" stroke-linecap=\"round\" style=\"stroke:white;stroke-width:4\"/><line x1=\"300.0\" y1=\"150.0\" x2=\"300.0\" y2=\"250.0\" stroke-linecap=\"round\" style=\"stroke:white;stroke-width:4\"/><line x1=\"300.0\" y1=\"250.0\" x2=\"400.0\" y2=\"250.0\" stroke-linecap=\"round\" style=\"stroke:white;stroke-width:4\"/>\n",
              "        \n",
              "      <g visibility=visible transform=\"rotate(180,400.0,250.0) translate(400.0, 250.0)\">\n",
              "        <circle stroke=\"white\" stroke-width=\"3\" fill=\"transparent\" r=\"12\" cx=\"0\" cy=\"0\"/>\n",
              "        <polygon points=\"0,19 3,16 -3,16\" style=\"fill:white;stroke:white;stroke-width:2\"/>\n",
              "      </g>\n",
              "    \n",
              "      </svg>\n",
              "    "
            ],
            "text/plain": [
              "<IPython.core.display.HTML object>"
            ]
          },
          "metadata": {
            "tags": []
          }
        }
      ]
    },
    {
      "cell_type": "markdown",
      "metadata": {
        "id": "uZNqzRhMkMUr",
        "colab_type": "text"
      },
      "source": [
        "Sweet, isn't is? turtle has many basic commands. What you'll need is only three for this exercise.\n",
        "\n",
        "```\n",
        "forward(distance) # move forward as much as distance\n",
        "left(degree)      # rotate to the left as much as the degrees (not radian)\n",
        "right(degree)     # rotate to the right as much as the degrees (not radian)\n",
        "```\n",
        "\n",
        "Now, the code above is a bit too long. We keep moving forward and do a 90-degree rotation all the time. Repetitive. We can use a `for` loop to do it!"
      ]
    },
    {
      "cell_type": "code",
      "metadata": {
        "id": "UjLlMuGTk0GW",
        "colab_type": "code",
        "colab": {
          "base_uri": "https://localhost:8080/",
          "height": 521
        },
        "outputId": "0b370677-043c-45bd-faa7-73c5ae5d7460"
      },
      "source": [
        "initializeTurtle()\n",
        "\n",
        "for _ in range(3):\n",
        "  forward(100)\n",
        "  left(90)"
      ],
      "execution_count": null,
      "outputs": [
        {
          "output_type": "display_data",
          "data": {
            "text/html": [
              "\n",
              "      <svg width=\"800\" height=\"500\">\n",
              "        <rect width=\"100%\" height=\"100%\" fill=\"black\"/>\n",
              "        <line x1=\"400\" y1=\"250\" x2=\"400.0\" y2=\"150.0\" stroke-linecap=\"round\" style=\"stroke:white;stroke-width:4\"/><line x1=\"400.0\" y1=\"150.0\" x2=\"300.0\" y2=\"150.0\" stroke-linecap=\"round\" style=\"stroke:white;stroke-width:4\"/><line x1=\"300.0\" y1=\"150.0\" x2=\"300.0\" y2=\"250.0\" stroke-linecap=\"round\" style=\"stroke:white;stroke-width:4\"/>\n",
              "        \n",
              "      <g visibility=visible transform=\"rotate(-90,300.0,250.0) translate(300.0, 250.0)\">\n",
              "        <circle stroke=\"white\" stroke-width=\"3\" fill=\"transparent\" r=\"12\" cx=\"0\" cy=\"0\"/>\n",
              "        <polygon points=\"0,19 3,16 -3,16\" style=\"fill:white;stroke:white;stroke-width:2\"/>\n",
              "      </g>\n",
              "    \n",
              "      </svg>\n",
              "    "
            ],
            "text/plain": [
              "<IPython.core.display.HTML object>"
            ]
          },
          "metadata": {
            "tags": []
          }
        }
      ]
    },
    {
      "cell_type": "markdown",
      "metadata": {
        "id": "HkSgG7ZzlAzf",
        "colab_type": "text"
      },
      "source": [
        "Shorter, isn't it? This is the beauty of a loop. \n",
        "Can you draw a **triangle**? How about a **hexagon**?\n",
        "\n",
        "\n",
        "\n",
        "\n",
        "####**Exercise: Create a function that takes in the number of sides `n` and returns a normal polygon with `n` sides.**"
      ]
    },
    {
      "cell_type": "code",
      "metadata": {
        "id": "fgkO5MfnlRr6",
        "colab_type": "code",
        "colab": {
          "base_uri": "https://localhost:8080/",
          "height": 538
        },
        "outputId": "74d15552-6d43-4cc1-fb12-f8e1b974b025"
      },
      "source": [
        "## PATTERN RECOGNITION\n",
        "\n",
        "\"\"\"\n",
        "for _ in range(4):\n",
        "  forward(100)\n",
        "  left(90)\n",
        "\"\"\"\n",
        "\n",
        "\"\"\"\n",
        "for _ in range(3):\n",
        "  forward(100)\n",
        "  left(360-60)\n",
        "\"\"\"\n",
        "\n",
        "def make_polygon(sides):\n",
        "  initializeTurtle()\n",
        "\n",
        "  ### YOUR CODE STARTS HERE ###\n",
        "  for _ in range(sides):\n",
        "    forward(5)\n",
        "    left(360/sides)\n",
        "\n",
        "  ### YOUR CODE ENDS HERE ###\n",
        "  pass\n",
        "\n",
        "print('Making pentagon')\n",
        "make_polygon(50)"
      ],
      "execution_count": null,
      "outputs": [
        {
          "output_type": "stream",
          "text": [
            "Making pentagon\n"
          ],
          "name": "stdout"
        },
        {
          "output_type": "display_data",
          "data": {
            "text/html": [
              "\n",
              "      <svg width=\"800\" height=\"500\">\n",
              "        <rect width=\"100%\" height=\"100%\" fill=\"black\"/>\n",
              "        <line x1=\"400\" y1=\"250\" x2=\"400.0\" y2=\"245.0\" stroke-linecap=\"round\" style=\"stroke:white;stroke-width:4\"/><line x1=\"400.0\" y1=\"245.0\" x2=\"399.3733338321785\" y2=\"240.0394264934276\" stroke-linecap=\"round\" style=\"stroke:white;stroke-width:4\"/><line x1=\"399.3733338321785\" y1=\"240.0394264934276\" x2=\"398.1298843963542\" y2=\"235.19651068778447\" stroke-linecap=\"round\" style=\"stroke:white;stroke-width:4\"/><line x1=\"398.1298843963542\" y1=\"235.19651068778447\" x2=\"396.28926163293085\" y2=\"230.54762825834322\" stroke-linecap=\"round\" style=\"stroke:white;stroke-width:4\"/><line x1=\"396.28926163293085\" y1=\"230.54762825834322\" x2=\"393.88049326242225\" y2=\"226.1660948581239\" stroke-linecap=\"round\" style=\"stroke:white;stroke-width:4\"/><line x1=\"393.88049326242225\" y1=\"226.1660948581239\" x2=\"390.9415670009599\" y2=\"222.12100988624917\" stroke-linecap=\"round\" style=\"stroke:white;stroke-width:4\"/><line x1=\"390.9415670009599\" y1=\"222.12100988624917\" x2=\"387.51883147131645\" y2=\"218.4761667491421\" stroke-linecap=\"round\" style=\"stroke:white;stroke-width:4\"/><line x1=\"387.51883147131645\" y1=\"218.4761667491421\" x2=\"383.6662652574375\" y2=\"215.28904680039864\" stroke-linecap=\"round\" style=\"stroke:white;stroke-width:4\"/><line x1=\"383.6662652574375\" y1=\"215.28904680039864\" x2=\"379.44462562992743\" y2=\"212.60991282550364\" stroke-linecap=\"round\" style=\"stroke:white;stroke-width:4\"/><line x1=\"379.44462562992743\" y1=\"212.60991282550364\" x2=\"374.9204903675973\" y2=\"210.48101636767828\" stroke-linecap=\"round\" style=\"stroke:white;stroke-width:4\"/><line x1=\"374.9204903675973\" y1=\"210.48101636767828\" x2=\"370.1652077861216\" y2=\"208.93593139580352\" stroke-linecap=\"round\" style=\"stroke:white;stroke-width:4\"/><line x1=\"370.1652077861216\" y1=\"208.93593139580352\" x2=\"365.25377153247814\" y2=\"207.9990248228749\" stroke-linecap=\"round\" style=\"stroke:white;stroke-width:4\"/><line x1=\"365.25377153247814\" y1=\"207.9990248228749\" x2=\"360.2636378903368\" y2=\"207.6850722252283\" stroke-linecap=\"round\" style=\"stroke:white;stroke-width:4\"/><line x1=\"360.2636378903368\" y1=\"207.6850722252283\" x2=\"355.2735042481954\" y2=\"207.99902482287487\" stroke-linecap=\"round\" style=\"stroke:white;stroke-width:4\"/><line x1=\"355.2735042481954\" y1=\"207.99902482287487\" x2=\"350.362067994552\" y2=\"208.9359313958035\" stroke-linecap=\"round\" style=\"stroke:white;stroke-width:4\"/><line x1=\"350.362067994552\" y1=\"208.9359313958035\" x2=\"345.6067854130762\" y2=\"210.48101636767822\" stroke-linecap=\"round\" style=\"stroke:white;stroke-width:4\"/><line x1=\"345.6067854130762\" y1=\"210.48101636767822\" x2=\"341.0826501507461\" y2=\"212.60991282550356\" stroke-linecap=\"round\" style=\"stroke:white;stroke-width:4\"/><line x1=\"341.0826501507461\" y1=\"212.60991282550356\" x2=\"336.861010523236\" y2=\"215.28904680039852\" stroke-linecap=\"round\" style=\"stroke:white;stroke-width:4\"/><line x1=\"336.861010523236\" y1=\"215.28904680039852\" x2=\"333.00844430935706\" y2=\"218.47616674914195\" stroke-linecap=\"round\" style=\"stroke:white;stroke-width:4\"/><line x1=\"333.00844430935706\" y1=\"218.47616674914195\" x2=\"329.5857087797136\" y2=\"222.121009886249\" stroke-linecap=\"round\" style=\"stroke:white;stroke-width:4\"/><line x1=\"329.5857087797136\" y1=\"222.121009886249\" x2=\"326.64678251825126\" y2=\"226.16609485812373\" stroke-linecap=\"round\" style=\"stroke:white;stroke-width:4\"/><line x1=\"326.64678251825126\" y1=\"226.16609485812373\" x2=\"324.23801414774266\" y2=\"230.54762825834302\" stroke-linecap=\"round\" style=\"stroke:white;stroke-width:4\"/><line x1=\"324.23801414774266\" y1=\"230.54762825834302\" x2=\"322.39739138431923\" y2=\"235.19651068778427\" stroke-linecap=\"round\" style=\"stroke:white;stroke-width:4\"/><line x1=\"322.39739138431923\" y1=\"235.19651068778427\" x2=\"321.15394194849495\" y2=\"240.0394264934274\" stroke-linecap=\"round\" style=\"stroke:white;stroke-width:4\"/><line x1=\"321.15394194849495\" y1=\"240.0394264934274\" x2=\"320.5272757806734\" y2=\"244.9999999999998\" stroke-linecap=\"round\" style=\"stroke:white;stroke-width:4\"/><line x1=\"320.5272757806734\" y1=\"244.9999999999998\" x2=\"320.5272757806734\" y2=\"249.9999999999998\" stroke-linecap=\"round\" style=\"stroke:white;stroke-width:4\"/><line x1=\"320.5272757806734\" y1=\"249.9999999999998\" x2=\"321.1539419484949\" y2=\"254.9605735065722\" stroke-linecap=\"round\" style=\"stroke:white;stroke-width:4\"/><line x1=\"321.1539419484949\" y1=\"254.9605735065722\" x2=\"322.3973913843191\" y2=\"259.80348931221533\" stroke-linecap=\"round\" style=\"stroke:white;stroke-width:4\"/><line x1=\"322.3973913843191\" y1=\"259.80348931221533\" x2=\"324.2380141477425\" y2=\"264.4523717416566\" stroke-linecap=\"round\" style=\"stroke:white;stroke-width:4\"/><line x1=\"324.2380141477425\" y1=\"264.4523717416566\" x2=\"326.64678251825103\" y2=\"268.8339051418759\" stroke-linecap=\"round\" style=\"stroke:white;stroke-width:4\"/><line x1=\"326.64678251825103\" y1=\"268.8339051418759\" x2=\"329.5857087797134\" y2=\"272.87899011375066\" stroke-linecap=\"round\" style=\"stroke:white;stroke-width:4\"/><line x1=\"329.5857087797134\" y1=\"272.87899011375066\" x2=\"333.00844430935683\" y2=\"276.5238332508577\" stroke-linecap=\"round\" style=\"stroke:white;stroke-width:4\"/><line x1=\"333.00844430935683\" y1=\"276.5238332508577\" x2=\"336.8610105232358\" y2=\"279.7109531996012\" stroke-linecap=\"round\" style=\"stroke:white;stroke-width:4\"/><line x1=\"336.8610105232358\" y1=\"279.7109531996012\" x2=\"341.08265015074585\" y2=\"282.3900871744962\" stroke-linecap=\"round\" style=\"stroke:white;stroke-width:4\"/><line x1=\"341.08265015074585\" y1=\"282.3900871744962\" x2=\"345.60678541307595\" y2=\"284.5189836323216\" stroke-linecap=\"round\" style=\"stroke:white;stroke-width:4\"/><line x1=\"345.60678541307595\" y1=\"284.5189836323216\" x2=\"350.3620679945517\" y2=\"286.06406860419634\" stroke-linecap=\"round\" style=\"stroke:white;stroke-width:4\"/><line x1=\"350.3620679945517\" y1=\"286.06406860419634\" x2=\"355.27350424819514\" y2=\"287.000975177125\" stroke-linecap=\"round\" style=\"stroke:white;stroke-width:4\"/><line x1=\"355.27350424819514\" y1=\"287.000975177125\" x2=\"360.2636378903365\" y2=\"287.31492777477155\" stroke-linecap=\"round\" style=\"stroke:white;stroke-width:4\"/><line x1=\"360.2636378903365\" y1=\"287.31492777477155\" x2=\"365.25377153247786\" y2=\"287.000975177125\" stroke-linecap=\"round\" style=\"stroke:white;stroke-width:4\"/><line x1=\"365.25377153247786\" y1=\"287.000975177125\" x2=\"370.1652077861213\" y2=\"286.0640686041964\" stroke-linecap=\"round\" style=\"stroke:white;stroke-width:4\"/><line x1=\"370.1652077861213\" y1=\"286.0640686041964\" x2=\"374.9204903675971\" y2=\"284.5189836323217\" stroke-linecap=\"round\" style=\"stroke:white;stroke-width:4\"/><line x1=\"374.9204903675971\" y1=\"284.5189836323217\" x2=\"379.4446256299272\" y2=\"282.39008717449633\" stroke-linecap=\"round\" style=\"stroke:white;stroke-width:4\"/><line x1=\"379.4446256299272\" y1=\"282.39008717449633\" x2=\"383.6662652574373\" y2=\"279.71095319960136\" stroke-linecap=\"round\" style=\"stroke:white;stroke-width:4\"/><line x1=\"383.6662652574373\" y1=\"279.71095319960136\" x2=\"387.5188314713163\" y2=\"276.52383325085793\" stroke-linecap=\"round\" style=\"stroke:white;stroke-width:4\"/><line x1=\"387.5188314713163\" y1=\"276.52383325085793\" x2=\"390.9415670009597\" y2=\"272.8789901137509\" stroke-linecap=\"round\" style=\"stroke:white;stroke-width:4\"/><line x1=\"390.9415670009597\" y1=\"272.8789901137509\" x2=\"393.8804932624221\" y2=\"268.8339051418762\" stroke-linecap=\"round\" style=\"stroke:white;stroke-width:4\"/><line x1=\"393.8804932624221\" y1=\"268.8339051418762\" x2=\"396.2892616329307\" y2=\"264.45237174165686\" stroke-linecap=\"round\" style=\"stroke:white;stroke-width:4\"/><line x1=\"396.2892616329307\" y1=\"264.45237174165686\" x2=\"398.1298843963541\" y2=\"259.8034893122156\" stroke-linecap=\"round\" style=\"stroke:white;stroke-width:4\"/><line x1=\"398.1298843963541\" y1=\"259.8034893122156\" x2=\"399.3733338321784\" y2=\"254.96057350657247\" stroke-linecap=\"round\" style=\"stroke:white;stroke-width:4\"/><line x1=\"399.3733338321784\" y1=\"254.96057350657247\" x2=\"399.99999999999994\" y2=\"250.00000000000009\" stroke-linecap=\"round\" style=\"stroke:white;stroke-width:4\"/>\n",
              "        \n",
              "      <g visibility=visible transform=\"rotate(180.00000000000034,399.99999999999994,250.00000000000009) translate(399.99999999999994, 250.00000000000009)\">\n",
              "        <circle stroke=\"white\" stroke-width=\"3\" fill=\"transparent\" r=\"12\" cx=\"0\" cy=\"0\"/>\n",
              "        <polygon points=\"0,19 3,16 -3,16\" style=\"fill:white;stroke:white;stroke-width:2\"/>\n",
              "      </g>\n",
              "    \n",
              "      </svg>\n",
              "    "
            ],
            "text/plain": [
              "<IPython.core.display.HTML object>"
            ]
          },
          "metadata": {
            "tags": []
          }
        }
      ]
    },
    {
      "cell_type": "markdown",
      "metadata": {
        "id": "egBm_oA6yHX7",
        "colab_type": "text"
      },
      "source": [
        "#### **Challenge!**\n",
        "Recreate the following shapes!\n",
        "Tips: Modify the function you made above.\n",
        "![alt text](https://i.ibb.co/cF8yJcv/illuminati.png)\n"
      ]
    },
    {
      "cell_type": "code",
      "metadata": {
        "id": "pV5O7541z8ye",
        "colab_type": "code",
        "colab": {}
      },
      "source": [
        "def make_triangle(sides, length):\n",
        "  initializeTurtle()\n",
        "  ### YOUR CODE STARTS HERE ###\n",
        "\n",
        "\n",
        "\n",
        "  ### YOUR CODE ENDS HERE ###\n",
        "  pass\n",
        "\n",
        "def funny_shape():\n",
        "  initializeTurtle()\n",
        "\n",
        "  ### YOUR CODE STARTS HERE ###\n",
        "\n",
        "\n",
        "\n",
        "  ### YOUR CODE ENDS HERE ###\n",
        "  pass\n",
        "\n",
        "funny_shape()"
      ],
      "execution_count": null,
      "outputs": []
    },
    {
      "cell_type": "markdown",
      "metadata": {
        "id": "orKR6sZEd9KB",
        "colab_type": "text"
      },
      "source": [
        "### Introducing the **`while`** loop!\n",
        "\n",
        "Back to our marathon problem.\n",
        "\n",
        "Humans are extremely terrible in keeping track of precisely how many steps do you need to cross the finish line nor how many steps have been done.\n",
        "\n",
        "Hence, life is easier if we have some sort of condition to stop running. \n",
        "We keep on running **until we cross the finish line**. \n",
        "\n",
        "That's where the `while` loop comes from. It will keep on executing the code while the condition is satisfied.\n",
        "```\n",
        "'''\n",
        "CrossedTheFinishLine() will return a boolean value of True or False.\n",
        "'''\n",
        "\n",
        "while not CrossedTheFinishLine():\n",
        "  run_one_step()\n",
        "\n",
        "celebrate()\n",
        "```\n",
        "Generally, we frown upon a `while` loop because as much as it is convenient, it is in my humble opinion dangerous and most questions in CS1010E have a clear `end`, in which the `for` loop can handle.\n"
      ]
    },
    {
      "cell_type": "code",
      "metadata": {
        "id": "pBK5yLkv0b_6",
        "colab_type": "code",
        "colab": {}
      },
      "source": [
        "### PLEASE DO NOT RUN (unless someone's feeling naughty)\n",
        "cnt = 0\n",
        "\n",
        "while True:\n",
        "  cnt += 1"
      ],
      "execution_count": null,
      "outputs": []
    },
    {
      "cell_type": "markdown",
      "metadata": {
        "id": "fLwXThDXA0qQ",
        "colab_type": "text"
      },
      "source": [
        "## I need more space! **Lists (and Tuples)**\n",
        "Say you have been practicing for your marathon. You have been recording your marathon timings. \n",
        "```\n",
        "marathon_practice_1 = 30.1\n",
        "marathon_practice_2 = 29.8\n",
        "marathon_practice_3 = 29.4\n",
        "marathon_practice_4 = 28.5\n",
        "marathon_practice_5 = 28.6\n",
        "marathon_practice_6 = 27.9\n",
        "```\n",
        "\n",
        "Now, as you run for more practice, things can get wilder. You may be inconsistent in naming your variables. You started to forget in which variable where you store things. \n",
        "\n",
        "Introducing **an array**. Arrays are a collection of objects. In Python, there are several types of arrays. CS1010E will focus on Lists, Tuples, and Dictionaries. We will only cover Lists and a bit of Tuples.\n",
        "\n",
        "The practice above can be saved as the following:\n",
        "\n",
        "\n",
        "```\n",
        "marathon_practice = [30.1, 29.8, 29.4, 28.5, 28.6, 27.9]\n",
        "```\n",
        "Why is it better?\n",
        "\n",
        "1.   **It helps you organise your data** the same way you organise your clothes in your drawers.\n",
        "2.   **Easier and more consistent way of accessing data**\n",
        "3.   **Allows you to manipulate information in the data easier** such as calculating the average and the number of objects in the array.\n",
        "\n",
        "\n"
      ]
    },
    {
      "cell_type": "markdown",
      "metadata": {
        "id": "IXMsZx-DTCqC",
        "colab_type": "text"
      },
      "source": [
        "### Creating a new empty list"
      ]
    },
    {
      "cell_type": "code",
      "metadata": {
        "id": "v9yqukJDSyoJ",
        "colab_type": "code",
        "colab": {
          "base_uri": "https://localhost:8080/",
          "height": 34
        },
        "outputId": "1ae1be94-0cb9-4817-c2c4-3c23f3ed41e5"
      },
      "source": [
        "new_list_1 = list()\n",
        "new_list_2 = []\n",
        "\n",
        "new_list_1 == new_list_2"
      ],
      "execution_count": null,
      "outputs": [
        {
          "output_type": "execute_result",
          "data": {
            "text/plain": [
              "True"
            ]
          },
          "metadata": {
            "tags": []
          },
          "execution_count": 92
        }
      ]
    },
    {
      "cell_type": "markdown",
      "metadata": {
        "id": "NvysBtVtY2lA",
        "colab_type": "text"
      },
      "source": [
        "### Index of a List (or basically any arrays)\n",
        "In Python, all indexes **start from 0** (or **-1** if you read **from the right**).\n",
        "Please remember this as this is super important.\n",
        "![alt text](https://cdn.programiz.com/sites/tutorial2program/files/python-list-index.png)\n",
        "\n",
        "### Accessing contents of the list\n",
        "To access the content of the list,\n",
        "\n",
        "```\n",
        "my_list[index]\n",
        "```\n",
        "Example is as below. \n",
        "\n"
      ]
    },
    {
      "cell_type": "code",
      "metadata": {
        "id": "Z8zTo8HeNZFU",
        "colab_type": "code",
        "colab": {
          "base_uri": "https://localhost:8080/",
          "height": 221
        },
        "outputId": "f0c6c7dc-3225-4bfb-a6c7-452304942b0d"
      },
      "source": [
        "my_list = ['CS', 1010, 'E', 'is awesome is', True]\n",
        "my_extreme_list = [ ['CS', 1010, 'E'] , 'is awesome is', True]\n",
        "\n",
        "for index in range(3):\n",
        "  print('For index {}'.format(index))\n",
        "  print(my_extreme_list[index])\n",
        "  print(type(my_extreme_list[index]))\n",
        "  print()"
      ],
      "execution_count": null,
      "outputs": [
        {
          "output_type": "stream",
          "text": [
            "For index 0\n",
            "['PINUS', 'Ori', 2020]\n",
            "<class 'list'>\n",
            "\n",
            "For index 1\n",
            "is awesome is\n",
            "<class 'str'>\n",
            "\n",
            "For index 2\n",
            "True\n",
            "<class 'bool'>\n",
            "\n"
          ],
          "name": "stdout"
        }
      ]
    },
    {
      "cell_type": "code",
      "metadata": {
        "id": "pClJcV2zZplQ",
        "colab_type": "code",
        "colab": {
          "base_uri": "https://localhost:8080/",
          "height": 357
        },
        "outputId": "8b4826da-b428-41b7-847f-8573022796eb"
      },
      "source": [
        "my_list = ['CS', 1010, 'E', 'is awesome is', True]\n",
        "\n",
        "for index in range(-1, -6, -1):\n",
        "  print('For index {}'.format(index))\n",
        "  print(my_list[index])\n",
        "  print(type(my_list[index]))\n",
        "  print()"
      ],
      "execution_count": null,
      "outputs": [
        {
          "output_type": "stream",
          "text": [
            "For index -1\n",
            "True\n",
            "<class 'bool'>\n",
            "\n",
            "For index -2\n",
            "is awesome is\n",
            "<class 'str'>\n",
            "\n",
            "For index -3\n",
            "2020\n",
            "<class 'int'>\n",
            "\n",
            "For index -4\n",
            "Ori\n",
            "<class 'str'>\n",
            "\n",
            "For index -5\n",
            "PINUS\n",
            "<class 'str'>\n",
            "\n"
          ],
          "name": "stdout"
        }
      ]
    },
    {
      "cell_type": "markdown",
      "metadata": {
        "id": "-Fleo5ZDZwgL",
        "colab_type": "text"
      },
      "source": [
        "###What happens if you access an item that is nonexistent in an array?\n",
        "Run the code below."
      ]
    },
    {
      "cell_type": "code",
      "metadata": {
        "id": "bl1qtMDhZvmO",
        "colab_type": "code",
        "colab": {
          "base_uri": "https://localhost:8080/",
          "height": 164
        },
        "outputId": "f870e200-10d0-44e5-f31a-d2e0e5d3a4eb"
      },
      "source": [
        "print(my_list[5]) #It make sense, right, since I have 5 items in my list."
      ],
      "execution_count": null,
      "outputs": [
        {
          "output_type": "error",
          "ename": "IndexError",
          "evalue": "ignored",
          "traceback": [
            "\u001b[0;31m---------------------------------------------------------------------------\u001b[0m",
            "\u001b[0;31mIndexError\u001b[0m                                Traceback (most recent call last)",
            "\u001b[0;32m<ipython-input-98-2c59eb725d2b>\u001b[0m in \u001b[0;36m<module>\u001b[0;34m()\u001b[0m\n\u001b[0;32m----> 1\u001b[0;31m \u001b[0mprint\u001b[0m\u001b[0;34m(\u001b[0m\u001b[0mmy_list\u001b[0m\u001b[0;34m[\u001b[0m\u001b[0;36m5\u001b[0m\u001b[0;34m]\u001b[0m\u001b[0;34m)\u001b[0m \u001b[0;31m#It make sense, right, since I have 5 items in my list.\u001b[0m\u001b[0;34m\u001b[0m\u001b[0;34m\u001b[0m\u001b[0m\n\u001b[0m",
            "\u001b[0;31mIndexError\u001b[0m: list index out of range"
          ]
        }
      ]
    },
    {
      "cell_type": "markdown",
      "metadata": {
        "id": "TjoIrnQLa2SV",
        "colab_type": "text"
      },
      "source": [
        "### Taking a subset of objects in an array\n",
        "You can take a subset from an array. \n",
        "Formula is as follows\n",
        "\n",
        "```\n",
        "my_list[start:stop:step]\n",
        "```\n",
        "`start` is the index where you start the subset inclusive\n",
        "`stop` is the index where you stop the subset exclusive\n",
        "`step` is the steps you make from the start to the end (like skipping)\n",
        "By default, \n",
        "```\n",
        "start = 0\n",
        "stop = len(list)\n",
        "step = 1\n",
        "```\n",
        "\n",
        " "
      ]
    },
    {
      "cell_type": "code",
      "metadata": {
        "id": "zxrUl2ZQT4EM",
        "colab_type": "code",
        "colab": {
          "base_uri": "https://localhost:8080/",
          "height": 255
        },
        "outputId": "73e91d82-f603-442a-e0fe-c54033576e0e"
      },
      "source": [
        "my_list = ['CS', 1010, 'E', 'is awesome is', True] #, IDX5]\n",
        "\n",
        "to_print = [\n",
        "            my_list, #1\n",
        "            my_list[:], #2 \n",
        "            my_list[::], #3\n",
        "            my_list[0:5:1], #4\n",
        "            '==========',\n",
        "            my_list[:2],\n",
        "            my_list[:2:],\n",
        "            '==========',\n",
        "            my_list[2:],\n",
        "            my_list[2::],\n",
        "            '==========',\n",
        "            my_list[::2],\n",
        "            my_list[:4:2],\n",
        "            my_list[1::2]      \n",
        "]\n",
        "\n",
        "for index, lst in enumerate(to_print):\n",
        "  print(str(index) +' '+ str(lst))"
      ],
      "execution_count": null,
      "outputs": [
        {
          "output_type": "stream",
          "text": [
            "0 ['PINUS', 'Ori', 2020, 'is awesome is', True]\n",
            "1 ['PINUS', 'Ori', 2020, 'is awesome is', True]\n",
            "2 ['PINUS', 'Ori', 2020, 'is awesome is', True]\n",
            "3 ['PINUS', 'Ori', 2020, 'is awesome is', True]\n",
            "4 ==========\n",
            "5 ['PINUS', 'Ori']\n",
            "6 ['PINUS', 'Ori']\n",
            "7 ==========\n",
            "8 [2020, 'is awesome is', True]\n",
            "9 [2020, 'is awesome is', True]\n",
            "10 ==========\n",
            "11 ['PINUS', 2020, True]\n",
            "12 ['PINUS', 2020]\n",
            "13 ['Ori', 'is awesome is']\n"
          ],
          "name": "stdout"
        }
      ]
    },
    {
      "cell_type": "markdown",
      "metadata": {
        "id": "4Tg-2Gv2opvn",
        "colab_type": "text"
      },
      "source": [
        "### Reverse List\n",
        "A list can be reversed if the step is a negative number (i.e. `step < 0`)\n",
        "When the `step` is negative, the default values of start and stop changes\n",
        "```\n",
        "start = beginning of list\n",
        "stop = end of list\n",
        "```\n"
      ]
    },
    {
      "cell_type": "code",
      "metadata": {
        "id": "9qbUdDZYo_7Y",
        "colab_type": "code",
        "colab": {
          "base_uri": "https://localhost:8080/",
          "height": 34
        },
        "outputId": "b2b54cfa-522a-483d-fc96-4cb2a882cf0f"
      },
      "source": [
        "my_list[::-1]"
      ],
      "execution_count": null,
      "outputs": [
        {
          "output_type": "execute_result",
          "data": {
            "text/plain": [
              "[True, 'is awesome is', 2020, 'Ori', 'PINUS']"
            ]
          },
          "metadata": {
            "tags": []
          },
          "execution_count": 100
        }
      ]
    },
    {
      "cell_type": "markdown",
      "metadata": {
        "id": "iRKFg0e7pLDE",
        "colab_type": "text"
      },
      "source": [
        "### Useful list functions\n",
        "`len(lst)` returns the length of the list. \n",
        "\n",
        "Sample use case:\n",
        "1.  Iterating through a list\n",
        "```\n",
        "\\my_list = [...]\n",
        "\\for idx in range( len(my_list) ):\n",
        "\\  do_something_with_object_inside_list( my_list[idx] )\n",
        "```\n",
        "2.  Fail-safe\n",
        "```\n",
        "\\def myfunction(index): \n",
        "\\  if index >= len(my_list)\n",
        "\\    # Do not access list as it will return an IndexError\n",
        "\\    return None\n",
        "\\  else:\n",
        "\\    return my_list[idx]\n",
        "```\n"
      ]
    },
    {
      "cell_type": "code",
      "metadata": {
        "id": "kk8ygya3PfWN",
        "colab_type": "code",
        "colab": {
          "base_uri": "https://localhost:8080/",
          "height": 34
        },
        "outputId": "d6eba11e-0386-49aa-dd0f-44c2f42ab106"
      },
      "source": [
        "len(my_list)"
      ],
      "execution_count": null,
      "outputs": [
        {
          "output_type": "execute_result",
          "data": {
            "text/plain": [
              "5"
            ]
          },
          "metadata": {
            "tags": []
          },
          "execution_count": 101
        }
      ]
    },
    {
      "cell_type": "markdown",
      "metadata": {
        "id": "NDXKh8dmXd4O",
        "colab_type": "text"
      },
      "source": [
        "### *A slight side-tracking*: **Strings have Array-like features too!**\n",
        "Imagine a `string` is like an array of characters stored in a list, but when you print the array, they will automatically combine all the characters into one sentence."
      ]
    },
    {
      "cell_type": "code",
      "metadata": {
        "id": "vhcN0dpJXdSz",
        "colab_type": "code",
        "colab": {
          "base_uri": "https://localhost:8080/",
          "height": 136
        },
        "outputId": "404611ce-92f4-4eb7-ee59-74d2c8d1d6e7"
      },
      "source": [
        "my_string = 'CS tenten EEE is super awesome!!!'\n",
        "\n",
        "print(my_string[0])\n",
        "print(my_string[:5])\n",
        "print(my_string[5:10])\n",
        "print(my_string[5::2])\n",
        "print(my_string[::-1])\n",
        "\n",
        "## Even cooler: you can split your string into actual arrays!\n",
        "my_splitted_list = list(my_string)\n",
        "print(my_splitted_list)\n",
        "\n",
        "my_tokenised_list = my_string.split() \n",
        "print(my_tokenised_list)"
      ],
      "execution_count": null,
      "outputs": [
        {
          "output_type": "stream",
          "text": [
            "P\n",
            "PINUS\n",
            " Ori \n",
            " r 00i ue wsm!!\n",
            "!!!emosewa repus si 0202 irO SUNIP\n",
            "['P', 'I', 'N', 'U', 'S', ' ', 'O', 'r', 'i', ' ', '2', '0', '2', '0', ' ', 'i', 's', ' ', 's', 'u', 'p', 'e', 'r', ' ', 'a', 'w', 'e', 's', 'o', 'm', 'e', '!', '!', '!']\n",
            "['PINUS', 'Ori', '2020', 'is', 'super', 'awesome!!!']\n"
          ],
          "name": "stdout"
        }
      ]
    },
    {
      "cell_type": "markdown",
      "metadata": {
        "id": "4SYMpUBLWYe4",
        "colab_type": "text"
      },
      "source": [
        "### Modifying lists\n",
        "\n",
        "`append(item)` and `extend(array)` is in-place"
      ]
    },
    {
      "cell_type": "code",
      "metadata": {
        "id": "nnTkmNnETRu0",
        "colab_type": "code",
        "colab": {
          "base_uri": "https://localhost:8080/",
          "height": 119
        },
        "outputId": "969c0dc3-0281-4004-a8b3-fc7ea00fc1d9"
      },
      "source": [
        "my_first_list = ['CS', 1010, 'E']\n",
        "\n",
        "my_third_list = my_first_list.append('!!!')\n",
        "print(my_third_list)\n",
        "print(my_first_list)\n",
        "\n",
        "my_fourth_list = my_first_list.extend('???')\n",
        "print(my_fourth_list)\n",
        "print(my_first_list)\n",
        "\n",
        "my_appended_list = ['CS', 1010, 'E']\n",
        "my_extended_list = ['CS', 1010, 'E']\n",
        "my_second_list = ['is awesome is', True]\n",
        "\n",
        "my_appended_list.append(my_second_list)\n",
        "my_extended_list.extend(my_second_list)\n",
        "print(my_appended_list)\n",
        "print(my_extended_list)"
      ],
      "execution_count": null,
      "outputs": [
        {
          "output_type": "stream",
          "text": [
            "None\n",
            "['PINUS', 'Ori', 2020, '!!!']\n",
            "None\n",
            "['PINUS', 'Ori', 2020, '!!!', '?', '?', '?']\n",
            "['PINUS', 'Ori', 2020, ['is awesome is', True]]\n",
            "['PINUS', 'Ori', 2020, 'is awesome is', True]\n"
          ],
          "name": "stdout"
        }
      ]
    },
    {
      "cell_type": "markdown",
      "metadata": {
        "id": "XKjG3p1x5P40",
        "colab_type": "text"
      },
      "source": [
        "### Modifying the content of a list "
      ]
    },
    {
      "cell_type": "code",
      "metadata": {
        "id": "vWivoRjX5p0Q",
        "colab_type": "code",
        "colab": {
          "base_uri": "https://localhost:8080/",
          "height": 34
        },
        "outputId": "9ff2b5cd-c591-4334-968f-2e11cbe33127"
      },
      "source": [
        "my_list = ['CS', 1010, 'E', 'is', 'awesome']\n",
        "my_list[0] = 'IT'\n",
        "my_list[-1] = 'NOT awesome'\n",
        "\n",
        "print(my_list)"
      ],
      "execution_count": 1,
      "outputs": [
        {
          "output_type": "stream",
          "text": [
            "['IT', 1010, 'E', 'is', 'NOT awesome']\n"
          ],
          "name": "stdout"
        }
      ]
    },
    {
      "cell_type": "markdown",
      "metadata": {
        "id": "76jyEa065xfp",
        "colab_type": "text"
      },
      "source": [
        "### What about tuples?\n",
        " Tuples are just like list, but they are immutable. It means that you **cannot modify the content nor shape** of the tuple."
      ]
    },
    {
      "cell_type": "code",
      "metadata": {
        "id": "vcHS4I1c59I8",
        "colab_type": "code",
        "colab": {
          "base_uri": "https://localhost:8080/",
          "height": 85
        },
        "outputId": "c87893fd-535c-4346-d929-07303561e13a"
      },
      "source": [
        "new_tuple = ()\n",
        "\n",
        "not_a_tuple = ('CS1010E') # the brackets are considered arithmetic brackets\n",
        "is_a_tuple = ('CS1010E',) # a comma at the end\n",
        "\n",
        "print(type(not_a_tuple))\n",
        "print(type(is_a_tuple))\n",
        "\n",
        "is_a_list = [\"CS1010E\"]\n",
        "still_a_list = [\"CS1010E\",]\n",
        "print(type(is_a_list))\n",
        "print(type(still_a_list))"
      ],
      "execution_count": null,
      "outputs": [
        {
          "output_type": "stream",
          "text": [
            "<class 'str'>\n",
            "<class 'tuple'>\n",
            "<class 'list'>\n",
            "<class 'list'>\n"
          ],
          "name": "stdout"
        }
      ]
    },
    {
      "cell_type": "code",
      "metadata": {
        "id": "jLe41e_Z6SSc",
        "colab_type": "code",
        "colab": {
          "base_uri": "https://localhost:8080/",
          "height": 181
        },
        "outputId": "a27d92e6-9350-4a15-e5be-446c0d78375b"
      },
      "source": [
        "my_tuple = ('CS', 1010, 'E', 'is', 'awesome')\n",
        "my_tuple[3] = 2021"
      ],
      "execution_count": null,
      "outputs": [
        {
          "output_type": "error",
          "ename": "TypeError",
          "evalue": "ignored",
          "traceback": [
            "\u001b[0;31m---------------------------------------------------------------------------\u001b[0m",
            "\u001b[0;31mTypeError\u001b[0m                                 Traceback (most recent call last)",
            "\u001b[0;32m<ipython-input-106-fad64be37f09>\u001b[0m in \u001b[0;36m<module>\u001b[0;34m()\u001b[0m\n\u001b[1;32m      1\u001b[0m \u001b[0mmy_tuple\u001b[0m \u001b[0;34m=\u001b[0m \u001b[0;34m(\u001b[0m\u001b[0;34m'PINUS'\u001b[0m\u001b[0;34m,\u001b[0m \u001b[0;34m'Ori'\u001b[0m\u001b[0;34m,\u001b[0m \u001b[0;36m2020\u001b[0m\u001b[0;34m,\u001b[0m \u001b[0;34m'is'\u001b[0m\u001b[0;34m,\u001b[0m \u001b[0;34m'awesome'\u001b[0m\u001b[0;34m)\u001b[0m\u001b[0;34m\u001b[0m\u001b[0;34m\u001b[0m\u001b[0m\n\u001b[0;32m----> 2\u001b[0;31m \u001b[0mmy_tuple\u001b[0m\u001b[0;34m[\u001b[0m\u001b[0;36m3\u001b[0m\u001b[0;34m]\u001b[0m \u001b[0;34m=\u001b[0m \u001b[0;36m2021\u001b[0m\u001b[0;34m\u001b[0m\u001b[0;34m\u001b[0m\u001b[0m\n\u001b[0m",
            "\u001b[0;31mTypeError\u001b[0m: 'tuple' object does not support item assignment"
          ]
        }
      ]
    },
    {
      "cell_type": "code",
      "metadata": {
        "id": "jr3-2ccI6WMJ",
        "colab_type": "code",
        "colab": {
          "base_uri": "https://localhost:8080/",
          "height": 164
        },
        "outputId": "82d9a172-c78e-49c4-c59d-0a82a7578f50"
      },
      "source": [
        "my_tuple.append('!!!')"
      ],
      "execution_count": null,
      "outputs": [
        {
          "output_type": "error",
          "ename": "AttributeError",
          "evalue": "ignored",
          "traceback": [
            "\u001b[0;31m---------------------------------------------------------------------------\u001b[0m",
            "\u001b[0;31mAttributeError\u001b[0m                            Traceback (most recent call last)",
            "\u001b[0;32m<ipython-input-107-0d7ed74ba9a5>\u001b[0m in \u001b[0;36m<module>\u001b[0;34m()\u001b[0m\n\u001b[0;32m----> 1\u001b[0;31m \u001b[0mmy_tuple\u001b[0m\u001b[0;34m.\u001b[0m\u001b[0mappend\u001b[0m\u001b[0;34m(\u001b[0m\u001b[0;34m'ORI'\u001b[0m\u001b[0;34m)\u001b[0m\u001b[0;34m\u001b[0m\u001b[0;34m\u001b[0m\u001b[0m\n\u001b[0m",
            "\u001b[0;31mAttributeError\u001b[0m: 'tuple' object has no attribute 'append'"
          ]
        }
      ]
    },
    {
      "cell_type": "code",
      "metadata": {
        "id": "18nd1J966aNp",
        "colab_type": "code",
        "colab": {
          "base_uri": "https://localhost:8080/",
          "height": 164
        },
        "outputId": "8a5464b5-eeea-464a-fab1-909a844cfc38"
      },
      "source": [
        "my_tuple.extend(['!!!'])"
      ],
      "execution_count": null,
      "outputs": [
        {
          "output_type": "error",
          "ename": "AttributeError",
          "evalue": "ignored",
          "traceback": [
            "\u001b[0;31m---------------------------------------------------------------------------\u001b[0m",
            "\u001b[0;31mAttributeError\u001b[0m                            Traceback (most recent call last)",
            "\u001b[0;32m<ipython-input-108-79ef7e2c3dd6>\u001b[0m in \u001b[0;36m<module>\u001b[0;34m()\u001b[0m\n\u001b[0;32m----> 1\u001b[0;31m \u001b[0mmy_tuple\u001b[0m\u001b[0;34m.\u001b[0m\u001b[0mextend\u001b[0m\u001b[0;34m(\u001b[0m\u001b[0;34m[\u001b[0m\u001b[0;34m'ORI'\u001b[0m\u001b[0;34m]\u001b[0m\u001b[0;34m)\u001b[0m\u001b[0;34m\u001b[0m\u001b[0;34m\u001b[0m\u001b[0m\n\u001b[0m",
            "\u001b[0;31mAttributeError\u001b[0m: 'tuple' object has no attribute 'extend'"
          ]
        }
      ]
    },
    {
      "cell_type": "markdown",
      "metadata": {
        "id": "uuTLb6Ps6l3W",
        "colab_type": "text"
      },
      "source": [
        "To combine two or more tuples, use the `+` sign."
      ]
    },
    {
      "cell_type": "code",
      "metadata": {
        "id": "UUQWO7fO6ksr",
        "colab_type": "code",
        "colab": {
          "base_uri": "https://localhost:8080/",
          "height": 34
        },
        "outputId": "5e99aad4-6266-4495-dcb4-4a9d725654e1"
      },
      "source": [
        "my_first_tuple  = ('CS', 1010, 'E')\n",
        "my_second_tuple = ('is awesome is', True)\n",
        "\n",
        "my_first_tuple + my_second_tuple"
      ],
      "execution_count": null,
      "outputs": [
        {
          "output_type": "execute_result",
          "data": {
            "text/plain": [
              "('PINUS', 'Ori', 2020, 'is awesome is', True)"
            ]
          },
          "metadata": {
            "tags": []
          },
          "execution_count": 109
        }
      ]
    },
    {
      "cell_type": "code",
      "metadata": {
        "id": "MoSUGVKhRh9l",
        "colab_type": "code",
        "colab": {
          "base_uri": "https://localhost:8080/",
          "height": 119
        },
        "outputId": "85bfbf09-9128-4ab7-9a72-68c0c796b4e0"
      },
      "source": [
        "my_array = my_first_tuple + my_second_tuple\n",
        "print(my_array)\n",
        "\n",
        "for idx in range(len(my_array)): #idx is a number\n",
        "  print(my_array[idx])\n",
        "  print(my_array_number_2[idx])\n",
        "\n",
        "for item in my_array:\n",
        "  print(item) "
      ],
      "execution_count": null,
      "outputs": [
        {
          "output_type": "stream",
          "text": [
            "('PINUS', 'Ori', 2020, 'is awesome is', True)\n",
            "PINUS\n",
            "Ori\n",
            "2020\n",
            "is awesome is\n",
            "True\n"
          ],
          "name": "stdout"
        }
      ]
    },
    {
      "cell_type": "markdown",
      "metadata": {
        "id": "n-cXoZEm1xh5",
        "colab_type": "text"
      },
      "source": [
        "## Closing Remarks\n",
        "\n",
        "To be honest, I do not know what else to say. I just finished this material at 1.30 am, 8 hours before the workshop.\n",
        "\n",
        "There will be a lot of mistakes in this notebook and will be improved as we go along. But I do hope you can learn to love coding, even if it is just Python. Python can do great stuff! Believe in yourself.\n",
        "\n",
        "Here are some good resources to learn Python.\n",
        "\n",
        "1.   [Kaggle Courses](https://www.kaggle.com/learn/overview)\n",
        "2.   [Python Tutor - Visualise your Code](http://www.pythontutor.com/visualize.html)\n",
        "3.   Your coursemates. I'm not joking.\n",
        "\n",
        "Your friends can be a rich resource in picking up new skills. Study together and you may pass the exams with flying colours, without cheating of course.\n",
        "(Read: [Straits Times: 'Coronavirus: NUS students allegedly abuse Covid-19 measures to cheat on exam'](https://www.straitstimes.com/singapore/education/coronavirus-nus-students-allegedly-abuse-covid-19-measures-to-cheat-on-exam))\n",
        "*(Gossips: [NUSWhispers | CS1010E](https://nuswhispers.com/search/CS1010E))*\n",
        "\n",
        "Now, what will you face ahead? You will learn less on the Python and more on the **computational thinking**. Computational Thinking? What is that? It means that you will learn more on how to solve problems systematically rather than learning syntax. This short workshop covered you for that. Now you can focus on tackling how to solve tough problems.\n",
        "\n",
        "If you need any help, feel free to drop me an email at matheus9@comp.nus.edu.sg. I'd be more than glad to help you. \n",
        "\n",
        "See you on campus.\n",
        "\n",
        "Matheus\n"
      ]
    }
  ]
}